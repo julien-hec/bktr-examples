{
  "nbformat": 4,
  "nbformat_minor": 0,
  "metadata": {
    "colab": {
      "provenance": [],
      "machine_shape": "hm",
      "gpuType": "A100"
    },
    "kernelspec": {
      "name": "ir",
      "display_name": "R"
    },
    "language_info": {
      "name": "R"
    },
    "accelerator": "GPU"
  },
  "cells": [
    {
      "cell_type": "markdown",
      "source": [
        "# Setup"
      ],
      "metadata": {
        "id": "l_6_AYdg6-fO"
      }
    },
    {
      "cell_type": "code",
      "source": [
        "# Get VM CPU and R version\n",
        "shell_call <- function(command, ...) {\n",
        "  result <- system(command, intern = TRUE, ...)\n",
        "  cat(paste0(result, collapse = \"\\n\"))\n",
        "}\n",
        "shell_call(\"grep -m1 'model name' /proc/cpuinfo | awk -F': ' '{printf \\\" CPU Model: %s \\\\n \\\",  $2}'\")\n",
        "shell_call(\"grep 'cpu cores' /proc/cpuinfo  | awk -F': ' '{a[cores]+=$2}END{printf \\\"CPU Cores: %s \\\\n \\\", a[cores] }'\")\n",
        "shell_call(\"grep MemTotal /proc/meminfo | awk '{printf \\\"RAM: %.1fGB \\\\n \\\", $2 / 1024 / 1024}'\")\n",
        "shell_call(\"R --version | head -n 1\")"
      ],
      "metadata": {
        "colab": {
          "base_uri": "https://localhost:8080/"
        },
        "id": "0Yizs7MNLXtu",
        "outputId": "228fdefb-3ef0-4476-db37-0b684b42f50a"
      },
      "execution_count": 1,
      "outputs": [
        {
          "output_type": "stream",
          "name": "stdout",
          "text": [
            " CPU Model: Intel(R) Xeon(R) CPU @ 2.20GHz \n",
            " CPU Cores: 72 \n",
            " RAM: 83.5GB \n",
            " R version 4.4.1 (2024-06-14) -- \"Race for Your Life\""
          ]
        }
      ]
    },
    {
      "cell_type": "code",
      "source": [
        "# Get GPU Info\n",
        "shell_call(\"nvidia-smi\")"
      ],
      "metadata": {
        "colab": {
          "base_uri": "https://localhost:8080/"
        },
        "id": "-SY3rqv0iozX",
        "outputId": "966ed4f0-c23d-4c94-e26d-f60abb4a80e8"
      },
      "execution_count": 2,
      "outputs": [
        {
          "output_type": "stream",
          "name": "stdout",
          "text": [
            "Tue Aug 27 02:19:01 2024       \n",
            "+---------------------------------------------------------------------------------------+\n",
            "| NVIDIA-SMI 535.104.05             Driver Version: 535.104.05   CUDA Version: 12.2     |\n",
            "|-----------------------------------------+----------------------+----------------------+\n",
            "| GPU  Name                 Persistence-M | Bus-Id        Disp.A | Volatile Uncorr. ECC |\n",
            "| Fan  Temp   Perf          Pwr:Usage/Cap |         Memory-Usage | GPU-Util  Compute M. |\n",
            "|                                         |                      |               MIG M. |\n",
            "|=========================================+======================+======================|\n",
            "|   0  NVIDIA A100-SXM4-40GB          Off | 00000000:00:04.0 Off |                    0 |\n",
            "| N/A   33C    P0              47W / 400W |      2MiB / 40960MiB |      0%      Default |\n",
            "|                                         |                      |             Disabled |\n",
            "+-----------------------------------------+----------------------+----------------------+\n",
            "                                                                                         \n",
            "+---------------------------------------------------------------------------------------+\n",
            "| Processes:                                                                            |\n",
            "|  GPU   GI   CI        PID   Type   Process name                            GPU Memory |\n",
            "|        ID   ID                                                             Usage      |\n",
            "|=======================================================================================|\n",
            "|  No running processes found                                                           |\n",
            "+---------------------------------------------------------------------------------------+"
          ]
        }
      ]
    },
    {
      "cell_type": "code",
      "source": [
        "# Install Torch with valid CUDA version\n",
        "\n",
        "options(timeout = 600) # increasing timeout is recommended since we will be downloading a 2GB file.\n",
        "# For Windows and Linux: \"cpu\", \"cu117\", \"cu118\" are the only currently supported\n",
        "# For MacOS the supported are: \"cpu-intel\" or \"cpu-m1\"\n",
        "kind <- \"cu118\"\n",
        "version <- available.packages()[\"torch\",\"Version\"]\n",
        "options(repos = c(\n",
        "  torch = sprintf(\"https://torch-cdn.mlverse.org/packages/%s/%s/\", kind, version),\n",
        "  CRAN = \"https://cloud.r-project.org\" # or any other from which you want to install the other R dependencies.\n",
        "))\n",
        "\n",
        "install.packages(\"torch\")"
      ],
      "metadata": {
        "colab": {
          "base_uri": "https://localhost:8080/"
        },
        "id": "Rc_sOGdU7hTY",
        "outputId": "b3dfc968-4705-422f-e503-1a69f7702e1c"
      },
      "execution_count": 3,
      "outputs": [
        {
          "output_type": "stream",
          "name": "stderr",
          "text": [
            "Installing package into ‘/usr/local/lib/R/site-library’\n",
            "(as ‘lib’ is unspecified)\n",
            "\n",
            "also installing the dependencies ‘coro’, ‘safetensors’\n",
            "\n",
            "\n"
          ]
        }
      ]
    },
    {
      "cell_type": "code",
      "source": [
        "# Test Torch installation\n",
        "\n",
        "library(torch)\n",
        "torch_rand(4)"
      ],
      "metadata": {
        "id": "B03MTSwTKpdA",
        "colab": {
          "base_uri": "https://localhost:8080/",
          "height": 121
        },
        "outputId": "6d19c3c5-ecc3-4ab2-cca7-8ddd2ffa01ba"
      },
      "execution_count": 4,
      "outputs": [
        {
          "output_type": "display_data",
          "data": {
            "text/plain": [
              "torch_tensor\n",
              " 0.0936\n",
              " 0.8286\n",
              " 0.8919\n",
              " 0.8154\n",
              "[ CPUFloatType{4} ]"
            ]
          },
          "metadata": {}
        }
      ]
    },
    {
      "cell_type": "code",
      "source": [
        "# Install BKTR\n",
        "\n",
        "install.packages('BKTR')\n",
        "\n",
        "### From Github (Latest Version)\n",
        "# install.packages(\"devtools\") # if not installed\n",
        "# devtools::install_github(\"julien-hec/BKTR\", ref = \"main\")\n",
        "\n",
        "# For section 4 side by side plots\n",
        "# install.packages('ggpubr')"
      ],
      "metadata": {
        "id": "4j3Z-s2x3qqx",
        "colab": {
          "base_uri": "https://localhost:8080/"
        },
        "outputId": "9ff3547d-fc50-43ee-ee85-31f58cac2abe"
      },
      "execution_count": 5,
      "outputs": [
        {
          "output_type": "stream",
          "name": "stderr",
          "text": [
            "Installing package into ‘/usr/local/lib/R/site-library’\n",
            "(as ‘lib’ is unspecified)\n",
            "\n",
            "also installing the dependencies ‘collections’, ‘png’, ‘plyr’, ‘jpeg’, ‘bitops’, ‘R6P’, ‘ggmap’\n",
            "\n",
            "\n"
          ]
        }
      ]
    },
    {
      "cell_type": "code",
      "source": [
        "# The following block is because Jupyter for R does not print until the end of\n",
        "# the code block execution. So, with this command we add real time printing.\n",
        "# See: https://stackoverflow.com/questions/37689694/real-time-printing-to-console-with-r-in-jupyter\n",
        "trace(what = \"print\", where = getNamespace(\"base\"), exit = flush.console, print = FALSE)"
      ],
      "metadata": {
        "id": "XazYp5Bf63TO",
        "colab": {
          "base_uri": "https://localhost:8080/",
          "height": 69
        },
        "outputId": "38ad9607-e09d-4c27-8a2d-96b7c3adaabd"
      },
      "execution_count": 6,
      "outputs": [
        {
          "output_type": "stream",
          "name": "stderr",
          "text": [
            "Tracing function \"print\" in package \"namespace:base\"\n",
            "\n"
          ]
        },
        {
          "output_type": "display_data",
          "data": {
            "text/html": [
              "'print'"
            ],
            "text/markdown": "'print'",
            "text/latex": "'print'",
            "text/plain": [
              "[1] \"print\""
            ]
          },
          "metadata": {}
        }
      ]
    },
    {
      "cell_type": "markdown",
      "source": [
        "# Load Libraries"
      ],
      "metadata": {
        "id": "OfZuYT2gMlzM"
      }
    },
    {
      "cell_type": "code",
      "source": [
        "# Code to run BKTR examples #\n",
        "# Lanthier, Lei, Sun and Labbe 2023 #\n",
        "\n",
        "library('BKTR')\n",
        "library(data.table)\n",
        "library(ggplot2)\n",
        "# library('ggpubr')"
      ],
      "metadata": {
        "id": "KYiIqRaKVUEp"
      },
      "execution_count": 7,
      "outputs": []
    },
    {
      "cell_type": "markdown",
      "source": [
        "# Run BKTR"
      ],
      "metadata": {
        "id": "S58uiuyl7Izm"
      }
    },
    {
      "cell_type": "code",
      "source": [
        "\n",
        "#######################\n",
        "### 5.2: Imputation ###\n",
        "#######################\n",
        "\n",
        "df_res_arr <- c()\n",
        "res_colnames <- c(\n",
        "    'Lengthscale', 'Missing', 'Iter', 'B_MAE',\n",
        "    'B_RMSE', 'Y_MAE', 'Y_RMSE', 'Time'\n",
        ")\n",
        "\n",
        "RANK_DECOMP <- 10\n",
        "BURN_IN_ITER <- 500\n",
        "SAMPLING_ITER <- 500\n",
        "\n",
        "# Set seed and calculation params\n",
        "TSR$set_params(seed = 1, fp_type = 'float32', fp_device = 'cuda')\n",
        "\n",
        "# Run simulation for different lengthscale and missing percentage\n",
        "for (len_scale in c(3, 6)) {\n",
        "  for (miss_perc in c(0.1, 0.5, 0.9)) {\n",
        "    for (i in 1:10) {\n",
        "      # Adding some progression debug prints\n",
        "      debug_msg <- sprintf(\n",
        "        'Lengthscale: %d, Missing: %.1f, Iter: %02d',\n",
        "        len_scale, miss_perc, i\n",
        "      )\n",
        "      print(debug_msg)\n",
        "\n",
        "      spatial_kernel <- KernelMatern$new(\n",
        "        smoothness_factor = 5,\n",
        "        lengthscale = KernelParameter$new(value = len_scale)\n",
        "      )\n",
        "      temporal_kernel <- (\n",
        "        KernelSE$new(lengthscale = KernelParameter$new(value = len_scale))\n",
        "      )\n",
        "\n",
        "      simu_data <- simulate_spatiotemporal_data(\n",
        "        100, 150, 2, 10, 10,\n",
        "        c(0, 2, 4), c(1, 3),\n",
        "        spatial_kernel, temporal_kernel, 1\n",
        "      )\n",
        "\n",
        "      data_df <- simu_data$data_df\n",
        "      index_choices_tsr <- TSR$tensor(1:nrow(data_df))\n",
        "      nb_miss_index <- round(miss_perc * nrow(data_df))\n",
        "      na_index <- as.numeric(\n",
        "        TSR$rand_choice(index_choices_tsr, nb_miss_index)$cpu()\n",
        "      )\n",
        "      data_df$y[na_index] <- NA\n",
        "\n",
        "      bktr_regressor <- BKTRRegressor$new(\n",
        "        data_df = data_df,\n",
        "        rank_decomp = RANK_DECOMP,\n",
        "        burn_in_iter = BURN_IN_ITER,\n",
        "        sampling_iter = SAMPLING_ITER,\n",
        "        spatial_kernel = KernelMatern$new(smoothness_factor = 5),\n",
        "        spatial_positions_df = simu_data$spatial_positions_df,\n",
        "        temporal_kernel = KernelSE$new(),\n",
        "        temporal_positions_df = simu_data$temporal_positions_df,\n",
        "        has_geo_coords = FALSE\n",
        "      )\n",
        "\n",
        "      # Hide output of sampling because its volume is too large\n",
        "      .unused_out <- capture.output(bktr_regressor$mcmc_sampling())\n",
        "\n",
        "      # Calc Beta Errors\n",
        "      y_err <- (\n",
        "        bktr_regressor$imputed_y_estimates$y[na_index]\n",
        "        - simu_data$data_df$y[na_index]\n",
        "      )\n",
        "      beta_err <- unlist(abs(\n",
        "        lapply(bktr_regressor$beta_estimates[, -c(1, 2)], as.numeric)\n",
        "        - simu_data$beta_df[, -c(1, 2)]\n",
        "      ))\n",
        "      y_rmse <- sqrt(mean(y_err^2))\n",
        "      y_mae <- mean(abs(y_err))\n",
        "      beta_rmse <- sqrt(mean(beta_err^2))\n",
        "      beta_mae <- mean(abs(beta_err))\n",
        "\n",
        "      # Formatting Values\n",
        "      df_res_arr <- c(\n",
        "        df_res_arr,\n",
        "        len_scale,\n",
        "        miss_perc,\n",
        "        sprintf('%04d', i),\n",
        "        sprintf('%.4f', beta_mae),\n",
        "        sprintf('%.4f', beta_rmse),\n",
        "        sprintf('%.4f', y_mae),\n",
        "        sprintf('%.4f', y_rmse),\n",
        "        sprintf('%.3f', as.numeric(\n",
        "            bktr_regressor$result_logger$total_elapsed_time, units = \"secs\"\n",
        "        ))\n",
        "      )\n",
        "    }\n",
        "  }\n",
        "}\n",
        "df <- as.data.table(\n",
        "    matrix(df_res_arr, ncol = length(res_colnames), byrow = TRUE)\n",
        ")\n",
        "colnames(df) <- res_colnames\n",
        "print(df)\n",
        "\n",
        "# Aggregate results (Table 5)\n",
        "mean_fmt <- function(x) sprintf('%.4f', mean(x))\n",
        "sd_fmt <- function(x) sprintf('%.4f', sd(x))\n",
        "\n",
        "df <- df[, lapply(.SD, as.numeric), by = list(Lengthscale, Missing)]\n",
        "df <- df[, .(\n",
        "  B_MAE_avg = mean_fmt(B_MAE),\n",
        "  B_MAE_sd = sd_fmt(B_MAE),\n",
        "  B_RMSE_avg = mean_fmt(B_RMSE),\n",
        "  B_RMSE_sd = sd_fmt(B_RMSE),\n",
        "  Y_MAE_avg = mean_fmt(Y_MAE),\n",
        "  Y_MAE_sd = sd_fmt(Y_MAE),\n",
        "  Y_RMSE_avg = mean_fmt(Y_RMSE),\n",
        "  Y_RMSE_sd = sd_fmt(Y_RMSE),\n",
        "  Time_avg = mean_fmt(Time),\n",
        "  Time_sd = sd_fmt(Time)\n",
        "), by = list(Lengthscale, Missing)]\n",
        "setkey(df, Lengthscale, Missing)\n",
        "print(df)"
      ],
      "metadata": {
        "id": "UM_b_Mq8Fzsa",
        "colab": {
          "base_uri": "https://localhost:8080/"
        },
        "outputId": "3839fadb-7341-42ee-c396-67f12dded9a0"
      },
      "execution_count": 18,
      "outputs": [
        {
          "output_type": "stream",
          "name": "stdout",
          "text": [
            "[1] \"Lengthscale: 3, Missing: 0.1, Iter: 01\"\n",
            "[1] \"Lengthscale: 3, Missing: 0.1, Iter: 02\"\n",
            "[1] \"Lengthscale: 3, Missing: 0.1, Iter: 03\"\n",
            "[1] \"Lengthscale: 3, Missing: 0.1, Iter: 04\"\n",
            "[1] \"Lengthscale: 3, Missing: 0.1, Iter: 05\"\n",
            "[1] \"Lengthscale: 3, Missing: 0.1, Iter: 06\"\n",
            "[1] \"Lengthscale: 3, Missing: 0.1, Iter: 07\"\n",
            "[1] \"Lengthscale: 3, Missing: 0.1, Iter: 08\"\n",
            "[1] \"Lengthscale: 3, Missing: 0.1, Iter: 09\"\n",
            "[1] \"Lengthscale: 3, Missing: 0.1, Iter: 10\"\n",
            "[1] \"Lengthscale: 3, Missing: 0.5, Iter: 01\"\n",
            "[1] \"Lengthscale: 3, Missing: 0.5, Iter: 02\"\n",
            "[1] \"Lengthscale: 3, Missing: 0.5, Iter: 03\"\n",
            "[1] \"Lengthscale: 3, Missing: 0.5, Iter: 04\"\n",
            "[1] \"Lengthscale: 3, Missing: 0.5, Iter: 05\"\n",
            "[1] \"Lengthscale: 3, Missing: 0.5, Iter: 06\"\n",
            "[1] \"Lengthscale: 3, Missing: 0.5, Iter: 07\"\n",
            "[1] \"Lengthscale: 3, Missing: 0.5, Iter: 08\"\n",
            "[1] \"Lengthscale: 3, Missing: 0.5, Iter: 09\"\n",
            "[1] \"Lengthscale: 3, Missing: 0.5, Iter: 10\"\n",
            "[1] \"Lengthscale: 3, Missing: 0.9, Iter: 01\"\n",
            "[1] \"Lengthscale: 3, Missing: 0.9, Iter: 02\"\n",
            "[1] \"Lengthscale: 3, Missing: 0.9, Iter: 03\"\n",
            "[1] \"Lengthscale: 3, Missing: 0.9, Iter: 04\"\n",
            "[1] \"Lengthscale: 3, Missing: 0.9, Iter: 05\"\n",
            "[1] \"Lengthscale: 3, Missing: 0.9, Iter: 06\"\n",
            "[1] \"Lengthscale: 3, Missing: 0.9, Iter: 07\"\n",
            "[1] \"Lengthscale: 3, Missing: 0.9, Iter: 08\"\n",
            "[1] \"Lengthscale: 3, Missing: 0.9, Iter: 09\"\n",
            "[1] \"Lengthscale: 3, Missing: 0.9, Iter: 10\"\n",
            "[1] \"Lengthscale: 6, Missing: 0.1, Iter: 01\"\n",
            "[1] \"Lengthscale: 6, Missing: 0.1, Iter: 02\"\n",
            "[1] \"Lengthscale: 6, Missing: 0.1, Iter: 03\"\n",
            "[1] \"Lengthscale: 6, Missing: 0.1, Iter: 04\"\n",
            "[1] \"Lengthscale: 6, Missing: 0.1, Iter: 05\"\n",
            "[1] \"Lengthscale: 6, Missing: 0.1, Iter: 06\"\n",
            "[1] \"Lengthscale: 6, Missing: 0.1, Iter: 07\"\n",
            "[1] \"Lengthscale: 6, Missing: 0.1, Iter: 08\"\n",
            "[1] \"Lengthscale: 6, Missing: 0.1, Iter: 09\"\n",
            "[1] \"Lengthscale: 6, Missing: 0.1, Iter: 10\"\n",
            "[1] \"Lengthscale: 6, Missing: 0.5, Iter: 01\"\n",
            "[1] \"Lengthscale: 6, Missing: 0.5, Iter: 02\"\n",
            "[1] \"Lengthscale: 6, Missing: 0.5, Iter: 03\"\n",
            "[1] \"Lengthscale: 6, Missing: 0.5, Iter: 04\"\n",
            "[1] \"Lengthscale: 6, Missing: 0.5, Iter: 05\"\n",
            "[1] \"Lengthscale: 6, Missing: 0.5, Iter: 06\"\n",
            "[1] \"Lengthscale: 6, Missing: 0.5, Iter: 07\"\n",
            "[1] \"Lengthscale: 6, Missing: 0.5, Iter: 08\"\n",
            "[1] \"Lengthscale: 6, Missing: 0.5, Iter: 09\"\n",
            "[1] \"Lengthscale: 6, Missing: 0.5, Iter: 10\"\n",
            "[1] \"Lengthscale: 6, Missing: 0.9, Iter: 01\"\n",
            "[1] \"Lengthscale: 6, Missing: 0.9, Iter: 02\"\n",
            "[1] \"Lengthscale: 6, Missing: 0.9, Iter: 03\"\n",
            "[1] \"Lengthscale: 6, Missing: 0.9, Iter: 04\"\n",
            "[1] \"Lengthscale: 6, Missing: 0.9, Iter: 05\"\n",
            "[1] \"Lengthscale: 6, Missing: 0.9, Iter: 06\"\n",
            "[1] \"Lengthscale: 6, Missing: 0.9, Iter: 07\"\n",
            "[1] \"Lengthscale: 6, Missing: 0.9, Iter: 08\"\n",
            "[1] \"Lengthscale: 6, Missing: 0.9, Iter: 09\"\n",
            "[1] \"Lengthscale: 6, Missing: 0.9, Iter: 10\"\n",
            "    Lengthscale Missing   Iter  B_MAE B_RMSE  Y_MAE Y_RMSE    Time\n",
            "         <char>  <char> <char> <char> <char> <char> <char>  <char>\n",
            " 1:           3     0.1   0001 0.5884 0.9198 0.8564 1.0937 223.186\n",
            " 2:           3     0.1   0002 0.6487 1.0198 0.8546 1.0733 218.430\n",
            " 3:           3     0.1   0003 0.5175 0.8126 0.8663 1.0980 212.495\n",
            " 4:           3     0.1   0004 0.8826 1.4721 0.8716 1.0786 209.634\n",
            " 5:           3     0.1   0005 0.6984 1.1750 0.8370 1.0647 214.884\n",
            " 6:           3     0.1   0006 0.6327 0.9808 0.8915 1.1290 227.116\n",
            " 7:           3     0.1   0007 0.5870 0.8558 0.8644 1.0981 214.737\n",
            " 8:           3     0.1   0008 1.0676 1.5783 0.9012 1.1346 213.828\n",
            " 9:           3     0.1   0009 0.9281 1.5131 0.8854 1.1211 215.067\n",
            "10:           3     0.1   0010 0.6533 1.0298 0.8488 1.0665 214.384\n",
            "11:           3     0.5   0001 0.8523 1.5494 0.8960 1.1339 212.606\n",
            "12:           3     0.5   0002 0.7338 1.0737 0.9303 1.1738 209.629\n",
            "13:           3     0.5   0003 0.8149 1.2388 0.9380 1.1834 210.417\n",
            "14:           3     0.5   0004 0.4748 0.7775 0.8802 1.1038 208.860\n",
            "15:           3     0.5   0005 0.5734 0.8537 0.8767 1.1017 217.978\n",
            "16:           3     0.5   0006 0.7943 1.1854 0.9116 1.1471 214.340\n",
            "17:           3     0.5   0007 0.6539 1.1185 0.8901 1.1143 210.010\n",
            "18:           3     0.5   0008 0.3245 0.4633 0.8509 1.0685 208.652\n",
            "19:           3     0.5   0009 0.6615 1.0387 0.8905 1.1191 211.597\n",
            "20:           3     0.5   0010 0.4517 0.6129 0.9604 1.2394 212.378\n",
            "21:           3     0.9   0001 0.5408 0.7697 1.0836 1.3854 196.700\n",
            "22:           3     0.9   0002 0.6999 1.0117 1.1867 1.5650 198.938\n",
            "23:           3     0.9   0003 0.5613 0.7883 1.1284 1.4473 199.098\n",
            "24:           3     0.9   0004 0.7067 1.0188 1.1909 1.5485 205.252\n",
            "25:           3     0.9   0005 0.4441 0.6430 1.0698 1.3822 198.017\n",
            "26:           3     0.9   0006 0.6294 0.9531 1.0752 1.3772 198.112\n",
            "27:           3     0.9   0007 0.7098 1.1148 1.1516 1.4943 200.955\n",
            "28:           3     0.9   0008 0.5649 0.8207 1.0330 1.3252 193.171\n",
            "29:           3     0.9   0009 0.7502 1.0744 1.1261 1.4486 197.491\n",
            "30:           3     0.9   0010 0.7645 1.1380 1.1764 1.5148 197.942\n",
            "31:           6     0.1   0001 0.2627 0.4799 0.8351 1.0399 194.724\n",
            "32:           6     0.1   0002 0.2270 0.4052 0.8264 1.0352 211.813\n",
            "33:           6     0.1   0003 0.2634 0.4261 0.7968 1.0020 201.218\n",
            "34:           6     0.1   0004 0.1783 0.2871 0.8152 1.0273 203.411\n",
            "35:           6     0.1   0005 0.1655 0.2464 0.7936 0.9976 196.768\n",
            "36:           6     0.1   0006 0.1425 0.1976 0.7909 0.9899 201.415\n",
            "37:           6     0.1   0007 0.3283 0.5242 0.8137 1.0283 202.233\n",
            "38:           6     0.1   0008 0.2193 0.3444 0.7880 0.9868 204.790\n",
            "39:           6     0.1   0009 0.1996 0.3935 0.8010 1.0001 193.881\n",
            "40:           6     0.1   0010 0.2084 0.3552 0.8053 1.0243 197.992\n",
            "41:           6     0.5   0001 0.1660 0.2593 0.8130 1.0196 194.228\n",
            "42:           6     0.5   0002 0.2053 0.3177 0.8204 1.0302 197.721\n",
            "43:           6     0.5   0003 0.1551 0.2258 0.8228 1.0305 193.445\n",
            "44:           6     0.5   0004 0.2123 0.3597 0.8348 1.0434 196.446\n",
            "45:           6     0.5   0005 0.1583 0.2288 0.8227 1.0300 191.379\n",
            "46:           6     0.5   0006 0.1790 0.2826 0.8305 1.0494 193.019\n",
            "47:           6     0.5   0007 0.3031 0.4892 0.8231 1.0263 199.731\n",
            "48:           6     0.5   0008 0.2070 0.2985 0.8206 1.0289 204.656\n",
            "49:           6     0.5   0009 0.1748 0.2782 0.8258 1.0334 198.937\n",
            "50:           6     0.5   0010 0.1514 0.2305 0.8168 1.0283 195.287\n",
            "51:           6     0.9   0001 0.3118 0.5071 0.9133 1.1533 181.719\n",
            "52:           6     0.9   0002 0.2630 0.4321 0.8866 1.1156 182.423\n",
            "53:           6     0.9   0003 0.2486 0.3940 0.8877 1.1122 182.006\n",
            "54:           6     0.9   0004 0.2131 0.3265 0.8789 1.1062 186.141\n",
            "55:           6     0.9   0005 0.2550 0.4207 0.8850 1.1165 179.602\n",
            "56:           6     0.9   0006 0.2407 0.3952 0.8580 1.0831 174.525\n",
            "57:           6     0.9   0007 0.2783 0.4216 0.8933 1.1269 182.031\n",
            "58:           6     0.9   0008 0.2390 0.3467 0.8902 1.1165 182.183\n",
            "59:           6     0.9   0009 0.2785 0.4491 0.8745 1.0951 179.022\n",
            "60:           6     0.9   0010 0.3452 0.5238 0.9122 1.1435 185.243\n",
            "    Lengthscale Missing   Iter  B_MAE B_RMSE  Y_MAE Y_RMSE    Time\n",
            "Key: <Lengthscale, Missing>\n",
            "   Lengthscale Missing B_MAE_avg B_MAE_sd B_RMSE_avg B_RMSE_sd Y_MAE_avg\n",
            "        <char>  <char>    <char>   <char>     <char>    <char>    <char>\n",
            "1:           3     0.1    0.7204   0.1777     1.1357    0.2850    0.8677\n",
            "2:           3     0.5    0.6335   0.1749     0.9912    0.3201    0.9025\n",
            "3:           3     0.9    0.6372   0.1057     0.9333    0.1678    1.1222\n",
            "4:           6     0.1    0.2195   0.0545     0.3660    0.1019    0.8066\n",
            "5:           6     0.5    0.1912   0.0453     0.2970    0.0799    0.8230\n",
            "6:           6     0.9    0.2673   0.0384     0.4217    0.0621    0.8880\n",
            "   Y_MAE_sd Y_RMSE_avg Y_RMSE_sd Time_avg Time_sd\n",
            "     <char>     <char>    <char>   <char>  <char>\n",
            "1:   0.0201     1.0958    0.0256 216.3761  5.2020\n",
            "2:   0.0327     1.1385    0.0494 211.6467  2.8634\n",
            "3:   0.0549     1.4488    0.0808 198.5676  3.0817\n",
            "4:   0.0157     1.0131    0.0198 200.8245  5.3287\n",
            "5:   0.0063     1.0320    0.0085 196.4849  3.9257\n",
            "6:   0.0164     1.1169    0.0208 181.4895  3.2634\n"
          ]
        }
      ]
    },
    {
      "cell_type": "code",
      "source": [
        "\n",
        "# Use 2 decimal places for the results\n",
        "fmt_2dec <- function(x) {\n",
        "  sprintf('%.2f', as.numeric(x))\n",
        "}\n",
        "res_df <- df[, lapply(.SD, fmt_2dec), by = list(Lengthscale, Missing)]\n",
        "\n",
        "# Format in B_mae(avg±sd)/B_rmse(avg±sd) Y_mae(avg±sd)/Y_rmse(avg±sd)\n",
        "res_df <- res_df[, .(\n",
        "  B_res = paste(B_MAE_avg, '±', B_MAE_sd, '/', B_RMSE_avg, '±', B_RMSE_sd),\n",
        "  Y_res = paste(Y_MAE_avg, '±', Y_MAE_sd, '/', Y_RMSE_avg, '±', Y_RMSE_sd),\n",
        "  Time_res = paste(Time_avg, '±', Time_sd)\n",
        "), by = list(Lengthscale, Missing)]\n",
        "res_df"
      ],
      "metadata": {
        "colab": {
          "base_uri": "https://localhost:8080/",
          "height": 286
        },
        "id": "0XxE2JJLoc-H",
        "outputId": "16c321af-c416-439e-f860-a782df4696bb"
      },
      "execution_count": 19,
      "outputs": [
        {
          "output_type": "display_data",
          "data": {
            "text/html": [
              "<table class=\"dataframe\">\n",
              "<caption>A data.table: 6 × 5</caption>\n",
              "<thead>\n",
              "\t<tr><th scope=col>Lengthscale</th><th scope=col>Missing</th><th scope=col>B_res</th><th scope=col>Y_res</th><th scope=col>Time_res</th></tr>\n",
              "\t<tr><th scope=col>&lt;chr&gt;</th><th scope=col>&lt;chr&gt;</th><th scope=col>&lt;chr&gt;</th><th scope=col>&lt;chr&gt;</th><th scope=col>&lt;chr&gt;</th></tr>\n",
              "</thead>\n",
              "<tbody>\n",
              "\t<tr><td>3</td><td>0.1</td><td>0.72 ± 0.18 / 1.14 ± 0.28</td><td>0.87 ± 0.02 / 1.10 ± 0.03</td><td>216.38 ± 5.20</td></tr>\n",
              "\t<tr><td>3</td><td>0.5</td><td>0.63 ± 0.17 / 0.99 ± 0.32</td><td>0.90 ± 0.03 / 1.14 ± 0.05</td><td>211.65 ± 2.86</td></tr>\n",
              "\t<tr><td>3</td><td>0.9</td><td>0.64 ± 0.11 / 0.93 ± 0.17</td><td>1.12 ± 0.05 / 1.45 ± 0.08</td><td>198.57 ± 3.08</td></tr>\n",
              "\t<tr><td>6</td><td>0.1</td><td>0.22 ± 0.05 / 0.37 ± 0.10</td><td>0.81 ± 0.02 / 1.01 ± 0.02</td><td>200.82 ± 5.33</td></tr>\n",
              "\t<tr><td>6</td><td>0.5</td><td>0.19 ± 0.05 / 0.30 ± 0.08</td><td>0.82 ± 0.01 / 1.03 ± 0.01</td><td>196.48 ± 3.93</td></tr>\n",
              "\t<tr><td>6</td><td>0.9</td><td>0.27 ± 0.04 / 0.42 ± 0.06</td><td>0.89 ± 0.02 / 1.12 ± 0.02</td><td>181.49 ± 3.26</td></tr>\n",
              "</tbody>\n",
              "</table>\n"
            ],
            "text/markdown": "\nA data.table: 6 × 5\n\n| Lengthscale &lt;chr&gt; | Missing &lt;chr&gt; | B_res &lt;chr&gt; | Y_res &lt;chr&gt; | Time_res &lt;chr&gt; |\n|---|---|---|---|---|\n| 3 | 0.1 | 0.72 ± 0.18 / 1.14 ± 0.28 | 0.87 ± 0.02 / 1.10 ± 0.03 | 216.38 ± 5.20 |\n| 3 | 0.5 | 0.63 ± 0.17 / 0.99 ± 0.32 | 0.90 ± 0.03 / 1.14 ± 0.05 | 211.65 ± 2.86 |\n| 3 | 0.9 | 0.64 ± 0.11 / 0.93 ± 0.17 | 1.12 ± 0.05 / 1.45 ± 0.08 | 198.57 ± 3.08 |\n| 6 | 0.1 | 0.22 ± 0.05 / 0.37 ± 0.10 | 0.81 ± 0.02 / 1.01 ± 0.02 | 200.82 ± 5.33 |\n| 6 | 0.5 | 0.19 ± 0.05 / 0.30 ± 0.08 | 0.82 ± 0.01 / 1.03 ± 0.01 | 196.48 ± 3.93 |\n| 6 | 0.9 | 0.27 ± 0.04 / 0.42 ± 0.06 | 0.89 ± 0.02 / 1.12 ± 0.02 | 181.49 ± 3.26 |\n\n",
            "text/latex": "A data.table: 6 × 5\n\\begin{tabular}{lllll}\n Lengthscale & Missing & B\\_res & Y\\_res & Time\\_res\\\\\n <chr> & <chr> & <chr> & <chr> & <chr>\\\\\n\\hline\n\t 3 & 0.1 & 0.72 ± 0.18 / 1.14 ± 0.28 & 0.87 ± 0.02 / 1.10 ± 0.03 & 216.38 ± 5.20\\\\\n\t 3 & 0.5 & 0.63 ± 0.17 / 0.99 ± 0.32 & 0.90 ± 0.03 / 1.14 ± 0.05 & 211.65 ± 2.86\\\\\n\t 3 & 0.9 & 0.64 ± 0.11 / 0.93 ± 0.17 & 1.12 ± 0.05 / 1.45 ± 0.08 & 198.57 ± 3.08\\\\\n\t 6 & 0.1 & 0.22 ± 0.05 / 0.37 ± 0.10 & 0.81 ± 0.02 / 1.01 ± 0.02 & 200.82 ± 5.33\\\\\n\t 6 & 0.5 & 0.19 ± 0.05 / 0.30 ± 0.08 & 0.82 ± 0.01 / 1.03 ± 0.01 & 196.48 ± 3.93\\\\\n\t 6 & 0.9 & 0.27 ± 0.04 / 0.42 ± 0.06 & 0.89 ± 0.02 / 1.12 ± 0.02 & 181.49 ± 3.26\\\\\n\\end{tabular}\n",
            "text/plain": [
              "  Lengthscale Missing B_res                     Y_res                    \n",
              "1 3           0.1     0.72 ± 0.18 / 1.14 ± 0.28 0.87 ± 0.02 / 1.10 ± 0.03\n",
              "2 3           0.5     0.63 ± 0.17 / 0.99 ± 0.32 0.90 ± 0.03 / 1.14 ± 0.05\n",
              "3 3           0.9     0.64 ± 0.11 / 0.93 ± 0.17 1.12 ± 0.05 / 1.45 ± 0.08\n",
              "4 6           0.1     0.22 ± 0.05 / 0.37 ± 0.10 0.81 ± 0.02 / 1.01 ± 0.02\n",
              "5 6           0.5     0.19 ± 0.05 / 0.30 ± 0.08 0.82 ± 0.01 / 1.03 ± 0.01\n",
              "6 6           0.9     0.27 ± 0.04 / 0.42 ± 0.06 0.89 ± 0.02 / 1.12 ± 0.02\n",
              "  Time_res     \n",
              "1 216.38 ± 5.20\n",
              "2 211.65 ± 2.86\n",
              "3 198.57 ± 3.08\n",
              "4 200.82 ± 5.33\n",
              "5 196.48 ± 3.93\n",
              "6 181.49 ± 3.26"
            ]
          },
          "metadata": {}
        }
      ]
    }
  ]
}