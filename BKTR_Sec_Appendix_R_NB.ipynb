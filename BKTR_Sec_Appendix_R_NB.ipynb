{
  "nbformat": 4,
  "nbformat_minor": 0,
  "metadata": {
    "colab": {
      "provenance": [],
      "machine_shape": "hm",
      "gpuType": "A100"
    },
    "kernelspec": {
      "name": "ir",
      "display_name": "R"
    },
    "language_info": {
      "name": "R"
    },
    "accelerator": "GPU"
  },
  "cells": [
    {
      "cell_type": "markdown",
      "source": [
        "# Setup"
      ],
      "metadata": {
        "id": "l_6_AYdg6-fO"
      }
    },
    {
      "cell_type": "code",
      "source": [
        "# Get VM CPU and R version\n",
        "shell_call <- function(command, ...) {\n",
        "  result <- system(command, intern = TRUE, ...)\n",
        "  cat(paste0(result, collapse = \"\\n\"))\n",
        "}\n",
        "shell_call(\"grep -m1 'model name' /proc/cpuinfo | awk -F': ' '{printf \\\" CPU Model: %s \\\\n \\\",  $2}'\")\n",
        "shell_call(\"grep 'cpu cores' /proc/cpuinfo  | awk -F': ' '{a[cores]+=$2}END{printf \\\"CPU Cores: %s \\\\n \\\", a[cores] }'\")\n",
        "shell_call(\"grep MemTotal /proc/meminfo | awk '{printf \\\"RAM: %.1fGB \\\\n \\\", $2 / 1024 / 1024}'\")\n",
        "shell_call(\"R --version | head -n 1\")"
      ],
      "metadata": {
        "colab": {
          "base_uri": "https://localhost:8080/"
        },
        "id": "0Yizs7MNLXtu",
        "outputId": "36881af7-aee7-4b63-9ecd-d3d88c55705b"
      },
      "execution_count": 1,
      "outputs": [
        {
          "output_type": "stream",
          "name": "stdout",
          "text": [
            " CPU Model: Intel(R) Xeon(R) CPU @ 2.20GHz \n",
            " CPU Cores: 72 \n",
            " RAM: 83.5GB \n",
            " R version 4.4.1 (2024-06-14) -- \"Race for Your Life\""
          ]
        }
      ]
    },
    {
      "cell_type": "code",
      "source": [
        "# Get GPU Info\n",
        "shell_call(\"nvidia-smi\")"
      ],
      "metadata": {
        "colab": {
          "base_uri": "https://localhost:8080/"
        },
        "id": "-SY3rqv0iozX",
        "outputId": "b948f18b-39c8-467f-c236-883b76bf7c60"
      },
      "execution_count": 2,
      "outputs": [
        {
          "output_type": "stream",
          "name": "stdout",
          "text": [
            "Tue Aug 27 08:07:15 2024       \n",
            "+---------------------------------------------------------------------------------------+\n",
            "| NVIDIA-SMI 535.104.05             Driver Version: 535.104.05   CUDA Version: 12.2     |\n",
            "|-----------------------------------------+----------------------+----------------------+\n",
            "| GPU  Name                 Persistence-M | Bus-Id        Disp.A | Volatile Uncorr. ECC |\n",
            "| Fan  Temp   Perf          Pwr:Usage/Cap |         Memory-Usage | GPU-Util  Compute M. |\n",
            "|                                         |                      |               MIG M. |\n",
            "|=========================================+======================+======================|\n",
            "|   0  NVIDIA A100-SXM4-40GB          Off | 00000000:00:04.0 Off |                    0 |\n",
            "| N/A   32C    P0              45W / 400W |      2MiB / 40960MiB |      0%      Default |\n",
            "|                                         |                      |             Disabled |\n",
            "+-----------------------------------------+----------------------+----------------------+\n",
            "                                                                                         \n",
            "+---------------------------------------------------------------------------------------+\n",
            "| Processes:                                                                            |\n",
            "|  GPU   GI   CI        PID   Type   Process name                            GPU Memory |\n",
            "|        ID   ID                                                             Usage      |\n",
            "|=======================================================================================|\n",
            "|  No running processes found                                                           |\n",
            "+---------------------------------------------------------------------------------------+"
          ]
        }
      ]
    },
    {
      "cell_type": "code",
      "source": [
        "# Install Torch with valid CUDA version\n",
        "\n",
        "options(timeout = 600) # increasing timeout is recommended since we will be downloading a 2GB file.\n",
        "# For Windows and Linux: \"cpu\", \"cu117\", \"cu118\" are the only currently supported\n",
        "# For MacOS the supported are: \"cpu-intel\" or \"cpu-m1\"\n",
        "kind <- \"cu118\"\n",
        "version <- available.packages()[\"torch\",\"Version\"]\n",
        "options(repos = c(\n",
        "  torch = sprintf(\"https://torch-cdn.mlverse.org/packages/%s/%s/\", kind, version),\n",
        "  CRAN = \"https://cloud.r-project.org\" # or any other from which you want to install the other R dependencies.\n",
        "))\n",
        "\n",
        "install.packages(\"torch\")"
      ],
      "metadata": {
        "colab": {
          "base_uri": "https://localhost:8080/"
        },
        "id": "Rc_sOGdU7hTY",
        "outputId": "4d494bc3-3bf0-4e16-9623-56e86fd8a987"
      },
      "execution_count": 3,
      "outputs": [
        {
          "output_type": "stream",
          "name": "stderr",
          "text": [
            "Installing package into ‘/usr/local/lib/R/site-library’\n",
            "(as ‘lib’ is unspecified)\n",
            "\n",
            "also installing the dependencies ‘coro’, ‘safetensors’\n",
            "\n",
            "\n"
          ]
        }
      ]
    },
    {
      "cell_type": "code",
      "source": [
        "# Test Torch installation\n",
        "\n",
        "library(torch)\n",
        "torch_rand(4)"
      ],
      "metadata": {
        "id": "B03MTSwTKpdA",
        "colab": {
          "base_uri": "https://localhost:8080/",
          "height": 121
        },
        "outputId": "d4184be4-5bdc-4919-d418-560fc4f1245f"
      },
      "execution_count": 4,
      "outputs": [
        {
          "output_type": "display_data",
          "data": {
            "text/plain": [
              "torch_tensor\n",
              " 0.5680\n",
              " 0.5107\n",
              " 0.7876\n",
              " 0.2857\n",
              "[ CPUFloatType{4} ]"
            ]
          },
          "metadata": {}
        }
      ]
    },
    {
      "cell_type": "code",
      "source": [
        "# Install BKTR\n",
        "\n",
        "install.packages('BKTR')\n",
        "\n",
        "### From Github (Latest Version)\n",
        "# install.packages(\"devtools\") # if not installed\n",
        "# devtools::install_github(\"julien-hec/BKTR\", ref = \"main\")\n",
        "\n",
        "# For section 4 side by side plots\n",
        "# install.packages('ggpubr')"
      ],
      "metadata": {
        "id": "4j3Z-s2x3qqx",
        "colab": {
          "base_uri": "https://localhost:8080/"
        },
        "outputId": "78744675-96f6-4acb-ae7f-1de8ab8a26b7"
      },
      "execution_count": 5,
      "outputs": [
        {
          "output_type": "stream",
          "name": "stderr",
          "text": [
            "Installing package into ‘/usr/local/lib/R/site-library’\n",
            "(as ‘lib’ is unspecified)\n",
            "\n",
            "also installing the dependencies ‘collections’, ‘png’, ‘plyr’, ‘jpeg’, ‘bitops’, ‘R6P’, ‘ggmap’\n",
            "\n",
            "\n"
          ]
        }
      ]
    },
    {
      "cell_type": "code",
      "source": [
        "# The following block is because Jupyter for R does not print until the end of\n",
        "# the code block execution. So, with this command we add real time printing.\n",
        "# See: https://stackoverflow.com/questions/37689694/real-time-printing-to-console-with-r-in-jupyter\n",
        "trace(what = \"print\", where = getNamespace(\"base\"), exit = flush.console, print = FALSE)"
      ],
      "metadata": {
        "id": "XazYp5Bf63TO",
        "colab": {
          "base_uri": "https://localhost:8080/",
          "height": 69
        },
        "outputId": "a6515e40-c757-46c7-bca3-43238c5f0751"
      },
      "execution_count": 6,
      "outputs": [
        {
          "output_type": "stream",
          "name": "stderr",
          "text": [
            "Tracing function \"print\" in package \"namespace:base\"\n",
            "\n"
          ]
        },
        {
          "output_type": "display_data",
          "data": {
            "text/html": [
              "'print'"
            ],
            "text/markdown": "'print'",
            "text/latex": "'print'",
            "text/plain": [
              "[1] \"print\""
            ]
          },
          "metadata": {}
        }
      ]
    },
    {
      "cell_type": "markdown",
      "source": [
        "# Load Libraries"
      ],
      "metadata": {
        "id": "OfZuYT2gMlzM"
      }
    },
    {
      "cell_type": "code",
      "source": [
        "# Code to run BKTR examples #\n",
        "# Lanthier, Lei, Sun and Labbe 2023 #\n",
        "\n",
        "library('BKTR')\n",
        "library(data.table)\n",
        "library(ggplot2)\n",
        "# library('ggpubr')"
      ],
      "metadata": {
        "id": "KYiIqRaKVUEp"
      },
      "execution_count": 7,
      "outputs": []
    },
    {
      "cell_type": "markdown",
      "source": [
        "# Run BKTR"
      ],
      "metadata": {
        "id": "S58uiuyl7Izm"
      }
    },
    {
      "cell_type": "markdown",
      "source": [
        "## Appendix B: Covariates reshaping"
      ],
      "metadata": {
        "id": "1GuACB4HwHIg"
      }
    },
    {
      "cell_type": "code",
      "source": [
        "\n",
        "################\n",
        "################\n",
        "#   Appendix   #\n",
        "################\n",
        "################\n",
        "\n",
        "########################################\n",
        "### Appendix B: Covariates reshaping ###\n",
        "########################################\n",
        "\n",
        "# Create full bixi data set\n",
        "bixi_data <- BixiData$new()\n",
        "\n",
        "# Ensure the data is reshaped to the right format\n",
        "spatial_df <- bixi_data$spatial_features_df\n",
        "temporal_df <- bixi_data$temporal_features_df\n",
        "y_df <- bixi_data$departure_df\n",
        "p_s <- ncol(spatial_df) - 1 # Not counting index column\n",
        "p_t <- ncol(temporal_df) - 1\n",
        "sprintf('Response M=%d and N=%d', nrow(y_df), ncol(y_df))\n",
        "sprintf('Spatial features M=%d x p_s=%d', nrow(spatial_df), p_s)\n",
        "sprintf('Temporal features N=%d x p_t=%d', nrow(temporal_df), p_t)\n",
        "data_df <- reshape_covariate_dfs(spatial_df, temporal_df,\n",
        "    y_df, 'nb_departure')\n",
        "sprintf('Should obtain MN=%d x P=%d', nrow(spatial_df) *\n",
        "   nrow(temporal_df), 1 + p_s + p_t)\n",
        "sprintf('Reshaped MN=%d x P=%d', nrow(data_df), ncol(data_df) - 2)"
      ],
      "metadata": {
        "colab": {
          "base_uri": "https://localhost:8080/",
          "height": 104
        },
        "id": "TTkxlHJ1wBB0",
        "outputId": "7e7cebf2-5825-4814-9613-b0ccddb74b0f"
      },
      "execution_count": 8,
      "outputs": [
        {
          "output_type": "display_data",
          "data": {
            "text/html": [
              "'Response M=587 and N=197'"
            ],
            "text/markdown": "'Response M=587 and N=197'",
            "text/latex": "'Response M=587 and N=197'",
            "text/plain": [
              "[1] \"Response M=587 and N=197\""
            ]
          },
          "metadata": {}
        },
        {
          "output_type": "display_data",
          "data": {
            "text/html": [
              "'Spatial features M=587 x p_s=13'"
            ],
            "text/markdown": "'Spatial features M=587 x p_s=13'",
            "text/latex": "'Spatial features M=587 x p\\_s=13'",
            "text/plain": [
              "[1] \"Spatial features M=587 x p_s=13\""
            ]
          },
          "metadata": {}
        },
        {
          "output_type": "display_data",
          "data": {
            "text/html": [
              "'Temporal features N=196 x p_t=5'"
            ],
            "text/markdown": "'Temporal features N=196 x p_t=5'",
            "text/latex": "'Temporal features N=196 x p\\_t=5'",
            "text/plain": [
              "[1] \"Temporal features N=196 x p_t=5\""
            ]
          },
          "metadata": {}
        },
        {
          "output_type": "display_data",
          "data": {
            "text/html": [
              "'Should obtain MN=115052 x P=19'"
            ],
            "text/markdown": "'Should obtain MN=115052 x P=19'",
            "text/latex": "'Should obtain MN=115052 x P=19'",
            "text/plain": [
              "[1] \"Should obtain MN=115052 x P=19\""
            ]
          },
          "metadata": {}
        },
        {
          "output_type": "display_data",
          "data": {
            "text/html": [
              "'Reshaped MN=115052 x P=19'"
            ],
            "text/markdown": "'Reshaped MN=115052 x P=19'",
            "text/latex": "'Reshaped MN=115052 x P=19'",
            "text/plain": [
              "[1] \"Reshaped MN=115052 x P=19\""
            ]
          },
          "metadata": {}
        }
      ]
    },
    {
      "cell_type": "markdown",
      "source": [
        "## Appendix D:"
      ],
      "metadata": {
        "id": "Kjq3ZCeawLp2"
      }
    },
    {
      "cell_type": "code",
      "source": [
        "\n",
        "#############################################################\n",
        "# Appendix D: Influence of device and floating point format #\n",
        "#############################################################\n",
        "# WARNING: Very long to run                                 #\n",
        "#############################################################\n",
        "\n",
        "TSR$set_params(seed = 1)\n",
        "\n",
        "res_colnames <- c(\n",
        "  'Device', 'FP_Type', 'Iter', 'Y_RMSE',\n",
        "  'Y_MAE', 'B_RMSE', 'B_MAE', 'Time'\n",
        ")\n",
        "\n",
        "nb_res_cols <- length(res_colnames)\n",
        "res_vals <- c()\n",
        "burn_in_iter <- 500\n",
        "sampling_iter <- 500\n",
        "for (fp_device in c('cuda', 'cpu')) {\n",
        "  for (fp_type in c('float64', 'float32')) {\n",
        "    for (i in 1:10) {\n",
        "      print(sprintf('%s, %s, %02d', fp_device, fp_type, i))\n",
        "      TSR$set_params(fp_type = fp_type, fp_device = fp_device)\n",
        "      matern_lengthscale <- KernelParameter$new(value = 14)\n",
        "      se_lengthscale <- KernelParameter$new(value = 5)\n",
        "      spatial_kernel <- KernelMatern$new(lengthscale = matern_lengthscale)\n",
        "      temporal_kernel <- KernelSE$new(lengthscale = se_lengthscale)\n",
        "\n",
        "      simu_data <- simulate_spatiotemporal_data(\n",
        "        nb_locations = 100,\n",
        "        nb_time_points = 150,\n",
        "        nb_spatial_dimensions = 2,\n",
        "        spatial_scale = 10,\n",
        "        time_scale = 10,\n",
        "        spatial_covariates_means = c(0, 2, 4),\n",
        "        temporal_covariates_means = c(1, 3),\n",
        "        spatial_kernel = spatial_kernel,\n",
        "        temporal_kernel = temporal_kernel,\n",
        "        noise_variance_scale = 1\n",
        "      )\n",
        "\n",
        "      bktr_regressor <- BKTRRegressor$new(\n",
        "        data_df = simu_data$data_df,\n",
        "        spatial_kernel = KernelMatern$new(),\n",
        "        spatial_positions_df = simu_data$spatial_positions_df,\n",
        "        temporal_kernel = KernelSE$new(),\n",
        "        temporal_positions_df = simu_data$temporal_positions_df,\n",
        "        burn_in_iter = burn_in_iter,\n",
        "        sampling_iter = sampling_iter,\n",
        "        has_geo_coords = FALSE\n",
        "      )\n",
        "\n",
        "      # Hide output of sampling because its volume creates notebook errors\n",
        "      .unused_out <- capture.output(bktr_regressor$mcmc_sampling())\n",
        "\n",
        "      # Calc Beta Errors\n",
        "      beta_err <- unlist(abs(\n",
        "        lapply(bktr_regressor$beta_estimates[, -c(1, 2)], as.numeric)\n",
        "        - simu_data$beta_df[, -c(1, 2)]\n",
        "      ))\n",
        "      beta_rmse <- sqrt(mean(beta_err^2))\n",
        "      beta_mae <- mean(abs(beta_err))\n",
        "      # Formatting Values\n",
        "      res_vals <- c(\n",
        "        res_vals,\n",
        "        fp_device,\n",
        "        fp_type,\n",
        "        sprintf('%04d', i),\n",
        "        sprintf('%.4f', bktr_regressor$result_logger$error_metrics$RMSE),\n",
        "        sprintf('%.4f', bktr_regressor$result_logger$error_metrics$MAE),\n",
        "        sprintf('%.4f', beta_rmse),\n",
        "        sprintf('%.4f', beta_mae),\n",
        "        sprintf('%.3f', as.numeric(\n",
        "          bktr_regressor$result_logger$total_elapsed_time, units = \"secs\"\n",
        "        ))\n",
        "      )\n",
        "      df <- as.data.table(matrix(res_vals, ncol = nb_res_cols, byrow = TRUE))\n",
        "    }\n",
        "  }\n",
        "}\n",
        "colnames(df) <- res_colnames\n",
        "print(df)\n",
        "\n",
        "# Aggregate results (Table 8)\n",
        "mean_fmt <- function(x) sprintf('%.4f', mean(x))\n",
        "sd_fmt <- function(x) sprintf('%.4f', sd(x))\n",
        "df <- df[, lapply(.SD, as.numeric), by = list(Device, FP_Type)]\n",
        "df <- df[, .(\n",
        "    Y_RMSE_avg = mean_fmt(Y_RMSE),\n",
        "    Y_RMSE_sd = sd_fmt(Y_RMSE),\n",
        "    Y_MAE_avg = mean_fmt(Y_MAE),\n",
        "    Y_MAE_sd = sd_fmt(Y_MAE),\n",
        "    B_RMSE_avg = mean_fmt(B_RMSE),\n",
        "    B_RMSE_sd = sd_fmt(B_RMSE),\n",
        "    B_MAE_avg = mean_fmt(B_MAE),\n",
        "    B_MAE_sd = sd_fmt(B_MAE),\n",
        "    Time_avg = mean_fmt(Time),\n",
        "    Time_sd = sd_fmt(Time)\n",
        "), by = list(Device, FP_Type)]\n",
        "print(df)\n"
      ],
      "metadata": {
        "colab": {
          "base_uri": "https://localhost:8080/"
        },
        "id": "FoYUMOvbwOFj",
        "outputId": "fb84b744-4e5f-47b7-cc03-93b8134d135c"
      },
      "execution_count": 16,
      "outputs": [
        {
          "output_type": "stream",
          "name": "stdout",
          "text": [
            "[1] \"cuda, float64, 01\"\n",
            "[1] \"cuda, float64, 02\"\n",
            "[1] \"cuda, float64, 03\"\n",
            "[1] \"cuda, float64, 04\"\n",
            "[1] \"cuda, float64, 05\"\n",
            "[1] \"cuda, float64, 06\"\n",
            "[1] \"cuda, float64, 07\"\n",
            "[1] \"cuda, float64, 08\"\n",
            "[1] \"cuda, float64, 09\"\n",
            "[1] \"cuda, float64, 10\"\n",
            "[1] \"cuda, float32, 01\"\n",
            "[1] \"cuda, float32, 02\"\n",
            "[1] \"cuda, float32, 03\"\n",
            "[1] \"cuda, float32, 04\"\n",
            "[1] \"cuda, float32, 05\"\n",
            "[1] \"cuda, float32, 06\"\n",
            "[1] \"cuda, float32, 07\"\n",
            "[1] \"cuda, float32, 08\"\n",
            "[1] \"cuda, float32, 09\"\n",
            "[1] \"cuda, float32, 10\"\n",
            "[1] \"cpu, float64, 01\"\n",
            "[1] \"cpu, float64, 02\"\n",
            "[1] \"cpu, float64, 03\"\n",
            "[1] \"cpu, float64, 04\"\n",
            "[1] \"cpu, float64, 05\"\n",
            "[1] \"cpu, float64, 06\"\n",
            "[1] \"cpu, float64, 07\"\n",
            "[1] \"cpu, float64, 08\"\n",
            "[1] \"cpu, float64, 09\"\n",
            "[1] \"cpu, float64, 10\"\n",
            "[1] \"cpu, float32, 01\"\n",
            "[1] \"cpu, float32, 02\"\n",
            "[1] \"cpu, float32, 03\"\n",
            "[1] \"cpu, float32, 04\"\n",
            "[1] \"cpu, float32, 05\"\n",
            "[1] \"cpu, float32, 06\"\n",
            "[1] \"cpu, float32, 07\"\n",
            "[1] \"cpu, float32, 08\"\n",
            "[1] \"cpu, float32, 09\"\n",
            "[1] \"cpu, float32, 10\"\n",
            "    Device FP_Type   Iter Y_RMSE  Y_MAE B_RMSE  B_MAE    Time\n",
            "    <char>  <char> <char> <char> <char> <char> <char>  <char>\n",
            " 1:   cuda float64   0001 0.9916 0.7900 0.0962 0.0660 190.541\n",
            " 2:   cuda float64   0002 0.9890 0.7894 0.1181 0.0746 190.624\n",
            " 3:   cuda float64   0003 0.9920 0.7932 0.1156 0.0703 179.358\n",
            " 4:   cuda float64   0004 0.9841 0.7829 0.1183 0.0690 185.013\n",
            " 5:   cuda float64   0005 0.9993 0.7984 0.1458 0.0863 183.896\n",
            " 6:   cuda float64   0006 0.9948 0.7938 0.1700 0.0963 193.353\n",
            " 7:   cuda float64   0007 0.9920 0.7938 0.0857 0.0597 188.454\n",
            " 8:   cuda float64   0008 0.9885 0.7886 0.1110 0.0750 189.227\n",
            " 9:   cuda float64   0009 0.9908 0.7909 0.1348 0.0774 186.543\n",
            "10:   cuda float64   0010 0.9897 0.7917 0.1411 0.0825 183.922\n",
            "11:   cuda float32   0001 0.9926 0.7904 0.1395 0.0804 189.964\n",
            "12:   cuda float32   0002 0.9934 0.7917 0.1645 0.1012 196.211\n",
            "13:   cuda float32   0003 0.9881 0.7885 0.1348 0.0839 186.842\n",
            "14:   cuda float32   0004 0.9823 0.7863 0.0924 0.0666 191.547\n",
            "15:   cuda float32   0005 0.9861 0.7886 0.1559 0.0991 197.727\n",
            "16:   cuda float32   0006 0.9804 0.7829 0.1267 0.0852 189.686\n",
            "17:   cuda float32   0007 0.9779 0.7816 0.1917 0.1056 192.013\n",
            "18:   cuda float32   0008 0.9884 0.7904 0.1024 0.0645 178.896\n",
            "19:   cuda float32   0009 0.9892 0.7892 0.1592 0.0883 192.300\n",
            "20:   cuda float32   0010 0.9704 0.7740 0.1230 0.0926 206.537\n",
            "21:    cpu float64   0001 0.9902 0.7913 0.0999 0.0627 509.491\n",
            "22:    cpu float64   0002 0.9893 0.7900 0.1151 0.0759 517.693\n",
            "23:    cpu float64   0003 0.9987 0.7963 0.1147 0.0738 528.887\n",
            "24:    cpu float64   0004 0.9951 0.7951 0.1289 0.0799 523.320\n",
            "25:    cpu float64   0005 0.9942 0.7917 0.1090 0.0671 518.985\n",
            "26:    cpu float64   0006 0.9846 0.7833 0.1227 0.0752 527.525\n",
            "27:    cpu float64   0007 0.9951 0.7957 0.1261 0.0779 520.342\n",
            "28:    cpu float64   0008 0.9924 0.7924 0.1166 0.0768 512.452\n",
            "29:    cpu float64   0009 0.9927 0.7934 0.1477 0.0909 522.907\n",
            "30:    cpu float64   0010 0.9927 0.7922 0.1547 0.0989 519.597\n",
            "31:    cpu float32   0001 0.9866 0.7843 0.1972 0.0969 427.619\n",
            "32:    cpu float32   0002 0.9830 0.7851 0.1509 0.0974 441.094\n",
            "33:    cpu float32   0003 0.9867 0.7891 0.1673 0.1115 446.059\n",
            "34:    cpu float32   0004 0.9874 0.7882 0.1174 0.0691 417.199\n",
            "35:    cpu float32   0005 0.9882 0.7877 0.0925 0.0671 396.696\n",
            "36:    cpu float32   0006 0.9862 0.7897 0.1149 0.0781 429.652\n",
            "37:    cpu float32   0007 0.9857 0.7845 0.1044 0.0739 420.794\n",
            "38:    cpu float32   0008 0.9862 0.7868 0.1484 0.0981 428.114\n",
            "39:    cpu float32   0009 1.0014 0.7974 0.1289 0.0818 415.149\n",
            "40:    cpu float32   0010 0.9860 0.7883 0.1303 0.0806 423.885\n",
            "    Device FP_Type   Iter Y_RMSE  Y_MAE B_RMSE  B_MAE    Time\n",
            "   Device FP_Type Y_RMSE_avg Y_RMSE_sd Y_MAE_avg Y_MAE_sd B_RMSE_avg B_RMSE_sd\n",
            "   <char>  <char>     <char>    <char>    <char>   <char>     <char>    <char>\n",
            "1:   cuda float64     0.9912    0.0040    0.7913   0.0041     0.1237    0.0248\n",
            "2:   cuda float32     0.9849    0.0072    0.7864   0.0054     0.1390    0.0299\n",
            "3:    cpu float64     0.9925    0.0038    0.7921   0.0037     0.1235    0.0169\n",
            "4:    cpu float32     0.9877    0.0050    0.7881   0.0038     0.1352    0.0314\n",
            "   B_MAE_avg B_MAE_sd Time_avg Time_sd\n",
            "      <char>   <char>   <char>  <char>\n",
            "1:    0.0757   0.0106 187.0931  4.1458\n",
            "2:    0.0867   0.0138 192.1723  7.2240\n",
            "3:    0.0779   0.0105 520.1199  6.0459\n",
            "4:    0.0854   0.0147 424.6261 13.8132\n"
          ]
        }
      ]
    },
    {
      "cell_type": "code",
      "source": [
        "fmt_2dec <- function(x) {\n",
        "  sprintf('%.2f', as.numeric(x))\n",
        "}\n",
        "res_df <- df[, lapply(.SD, fmt_2dec), by = list(Device, FP_Type)]\n",
        "\n",
        "# Format in B_mae(avg±sd)/B_rmse(avg±sd) Y_mae(avg±sd)/Y_rmse(avg±sd)\n",
        "res_df <- res_df[, .(\n",
        "  B_res = paste(B_MAE_avg, '±', B_MAE_sd, '/', B_RMSE_avg, '±', B_RMSE_sd),\n",
        "  Y_res = paste(Y_MAE_avg, '±', Y_MAE_sd, '/', Y_RMSE_avg, '±', Y_RMSE_sd),\n",
        "  Time_res = paste(Time_avg, '±', Time_sd)\n",
        "), by = list(Device, FP_Type)]\n",
        "setkey(res_df, Device)\n",
        "res_df"
      ],
      "metadata": {
        "colab": {
          "base_uri": "https://localhost:8080/",
          "height": 223
        },
        "id": "4mCaNf6zwXbb",
        "outputId": "43c61464-9b96-4c0d-f0cb-a8c087c71d4c"
      },
      "execution_count": 17,
      "outputs": [
        {
          "output_type": "display_data",
          "data": {
            "text/html": [
              "<table class=\"dataframe\">\n",
              "<caption>A data.table: 4 × 5</caption>\n",
              "<thead>\n",
              "\t<tr><th scope=col>Device</th><th scope=col>FP_Type</th><th scope=col>B_res</th><th scope=col>Y_res</th><th scope=col>Time_res</th></tr>\n",
              "\t<tr><th scope=col>&lt;chr&gt;</th><th scope=col>&lt;chr&gt;</th><th scope=col>&lt;chr&gt;</th><th scope=col>&lt;chr&gt;</th><th scope=col>&lt;chr&gt;</th></tr>\n",
              "</thead>\n",
              "<tbody>\n",
              "\t<tr><td>cpu </td><td>float64</td><td>0.08 ± 0.01 / 0.12 ± 0.02</td><td>0.79 ± 0.00 / 0.99 ± 0.00</td><td>520.12 ± 6.05 </td></tr>\n",
              "\t<tr><td>cpu </td><td>float32</td><td>0.09 ± 0.01 / 0.14 ± 0.03</td><td>0.79 ± 0.00 / 0.99 ± 0.01</td><td>424.63 ± 13.81</td></tr>\n",
              "\t<tr><td>cuda</td><td>float64</td><td>0.08 ± 0.01 / 0.12 ± 0.02</td><td>0.79 ± 0.00 / 0.99 ± 0.00</td><td>187.09 ± 4.15 </td></tr>\n",
              "\t<tr><td>cuda</td><td>float32</td><td>0.09 ± 0.01 / 0.14 ± 0.03</td><td>0.79 ± 0.01 / 0.98 ± 0.01</td><td>192.17 ± 7.22 </td></tr>\n",
              "</tbody>\n",
              "</table>\n"
            ],
            "text/markdown": "\nA data.table: 4 × 5\n\n| Device &lt;chr&gt; | FP_Type &lt;chr&gt; | B_res &lt;chr&gt; | Y_res &lt;chr&gt; | Time_res &lt;chr&gt; |\n|---|---|---|---|---|\n| cpu  | float64 | 0.08 ± 0.01 / 0.12 ± 0.02 | 0.79 ± 0.00 / 0.99 ± 0.00 | 520.12 ± 6.05  |\n| cpu  | float32 | 0.09 ± 0.01 / 0.14 ± 0.03 | 0.79 ± 0.00 / 0.99 ± 0.01 | 424.63 ± 13.81 |\n| cuda | float64 | 0.08 ± 0.01 / 0.12 ± 0.02 | 0.79 ± 0.00 / 0.99 ± 0.00 | 187.09 ± 4.15  |\n| cuda | float32 | 0.09 ± 0.01 / 0.14 ± 0.03 | 0.79 ± 0.01 / 0.98 ± 0.01 | 192.17 ± 7.22  |\n\n",
            "text/latex": "A data.table: 4 × 5\n\\begin{tabular}{lllll}\n Device & FP\\_Type & B\\_res & Y\\_res & Time\\_res\\\\\n <chr> & <chr> & <chr> & <chr> & <chr>\\\\\n\\hline\n\t cpu  & float64 & 0.08 ± 0.01 / 0.12 ± 0.02 & 0.79 ± 0.00 / 0.99 ± 0.00 & 520.12 ± 6.05 \\\\\n\t cpu  & float32 & 0.09 ± 0.01 / 0.14 ± 0.03 & 0.79 ± 0.00 / 0.99 ± 0.01 & 424.63 ± 13.81\\\\\n\t cuda & float64 & 0.08 ± 0.01 / 0.12 ± 0.02 & 0.79 ± 0.00 / 0.99 ± 0.00 & 187.09 ± 4.15 \\\\\n\t cuda & float32 & 0.09 ± 0.01 / 0.14 ± 0.03 & 0.79 ± 0.01 / 0.98 ± 0.01 & 192.17 ± 7.22 \\\\\n\\end{tabular}\n",
            "text/plain": [
              "  Device FP_Type B_res                     Y_res                    \n",
              "1 cpu    float64 0.08 ± 0.01 / 0.12 ± 0.02 0.79 ± 0.00 / 0.99 ± 0.00\n",
              "2 cpu    float32 0.09 ± 0.01 / 0.14 ± 0.03 0.79 ± 0.00 / 0.99 ± 0.01\n",
              "3 cuda   float64 0.08 ± 0.01 / 0.12 ± 0.02 0.79 ± 0.00 / 0.99 ± 0.00\n",
              "4 cuda   float32 0.09 ± 0.01 / 0.14 ± 0.03 0.79 ± 0.01 / 0.98 ± 0.01\n",
              "  Time_res      \n",
              "1 520.12 ± 6.05 \n",
              "2 424.63 ± 13.81\n",
              "3 187.09 ± 4.15 \n",
              "4 192.17 ± 7.22 "
            ]
          },
          "metadata": {}
        }
      ]
    }
  ]
}