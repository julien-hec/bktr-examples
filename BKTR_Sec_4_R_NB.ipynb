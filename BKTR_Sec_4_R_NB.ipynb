{
  "nbformat": 4,
  "nbformat_minor": 0,
  "metadata": {
    "colab": {
      "provenance": [],
      "machine_shape": "hm"
    },
    "kernelspec": {
      "name": "ir",
      "display_name": "R"
    },
    "language_info": {
      "name": "R"
    }
  },
  "cells": [
    {
      "cell_type": "markdown",
      "source": [
        "# Setup"
      ],
      "metadata": {
        "id": "l_6_AYdg6-fO"
      }
    },
    {
      "cell_type": "code",
      "source": [
        "# Get VM CPU and R version\n",
        "shell_call <- function(command, ...) {\n",
        "  result <- system(command, intern = TRUE, ...)\n",
        "  cat(paste0(result, collapse = \"\\n\"))\n",
        "}\n",
        "shell_call(\"grep -m1 'model name' /proc/cpuinfo | awk -F': ' '{printf \\\" CPU Model: %s \\\\n \\\",  $2}'\")\n",
        "shell_call(\"grep 'cpu cores' /proc/cpuinfo  | awk -F': ' '{a[cores]+=$2}END{printf \\\"CPU Cores: %s \\\\n \\\", a[cores] }'\")\n",
        "shell_call(\"grep MemTotal /proc/meminfo | awk '{printf \\\"RAM: %.1fGB \\\\n \\\", $2 / 1024 / 1024}'\")\n",
        "shell_call(\"R --version | head -n 1\")"
      ],
      "metadata": {
        "colab": {
          "base_uri": "https://localhost:8080/"
        },
        "id": "0Yizs7MNLXtu",
        "outputId": "64bc05a2-a59b-411c-cc30-6b7b8187cbd8"
      },
      "execution_count": 1,
      "outputs": [
        {
          "output_type": "stream",
          "name": "stdout",
          "text": [
            " CPU Model: Intel(R) Xeon(R) CPU @ 2.20GHz \n",
            " CPU Cores: 32 \n",
            " RAM: 51.0GB \n",
            " R version 4.4.1 (2024-06-14) -- \"Race for Your Life\""
          ]
        }
      ]
    },
    {
      "cell_type": "code",
      "source": [
        "# Install Torch\n",
        "\n",
        "Sys.setenv(CUDA='cpu')\n",
        "install.packages(\"torch\")"
      ],
      "metadata": {
        "colab": {
          "base_uri": "https://localhost:8080/"
        },
        "id": "Rc_sOGdU7hTY",
        "outputId": "96564975-06df-42f7-f7ef-bc2e8fe9fbf1"
      },
      "execution_count": 2,
      "outputs": [
        {
          "output_type": "stream",
          "name": "stderr",
          "text": [
            "Installing package into ‘/usr/local/lib/R/site-library’\n",
            "(as ‘lib’ is unspecified)\n",
            "\n",
            "Warning message in install.packages(\"torch\"):\n",
            "“installation of package ‘torch’ had non-zero exit status”\n"
          ]
        }
      ]
    },
    {
      "cell_type": "code",
      "source": [
        "# Test Torch installation\n",
        "\n",
        "library(torch)\n",
        "torch_rand(4)"
      ],
      "metadata": {
        "id": "B03MTSwTKpdA",
        "colab": {
          "base_uri": "https://localhost:8080/",
          "height": 121
        },
        "outputId": "fbf5d894-a834-4060-b7ec-d3cc6b801f2f"
      },
      "execution_count": 3,
      "outputs": [
        {
          "output_type": "display_data",
          "data": {
            "text/plain": [
              "torch_tensor\n",
              " 0.5309\n",
              " 0.4939\n",
              " 0.6571\n",
              " 0.3490\n",
              "[ CPUFloatType{4} ]"
            ]
          },
          "metadata": {}
        }
      ]
    },
    {
      "cell_type": "code",
      "source": [
        "# Install BKTR\n",
        "\n",
        "install.packages('BKTR')\n",
        "\n",
        "### From Github (Latest Version)\n",
        "# install.packages(\"devtools\") # if not installed\n",
        "# devtools::install_github(\"julien-hec/BKTR\", ref = \"main\")\n",
        "\n",
        "# For section 4 side by side plots\n",
        "install.packages('ggpubr')"
      ],
      "metadata": {
        "id": "4j3Z-s2x3qqx",
        "colab": {
          "base_uri": "https://localhost:8080/"
        },
        "outputId": "e945303f-2ae4-4952-8e42-820c9c530bf3"
      },
      "execution_count": 4,
      "outputs": [
        {
          "output_type": "stream",
          "name": "stderr",
          "text": [
            "Installing package into ‘/usr/local/lib/R/site-library’\n",
            "(as ‘lib’ is unspecified)\n",
            "\n",
            "Installing package into ‘/usr/local/lib/R/site-library’\n",
            "(as ‘lib’ is unspecified)\n",
            "\n",
            "also installing the dependencies ‘Deriv’, ‘microbenchmark’, ‘numDeriv’, ‘doBy’, ‘SparseM’, ‘MatrixModels’, ‘minqa’, ‘nloptr’, ‘RcppEigen’, ‘carData’, ‘abind’, ‘pbkrtest’, ‘quantreg’, ‘lme4’, ‘corrplot’, ‘car’, ‘ggrepel’, ‘ggsci’, ‘cowplot’, ‘ggsignif’, ‘gridExtra’, ‘polynom’, ‘rstatix’\n",
            "\n",
            "\n"
          ]
        }
      ]
    },
    {
      "cell_type": "code",
      "source": [
        "# The following block is because Jupyter for R does not print until the end of\n",
        "# the code block execution. So, with this command we add real time printing.\n",
        "# See: https://stackoverflow.com/questions/37689694/real-time-printing-to-console-with-r-in-jupyter\n",
        "trace(what = \"print\", where = getNamespace(\"base\"), exit = flush.console, print = FALSE)"
      ],
      "metadata": {
        "id": "XazYp5Bf63TO",
        "colab": {
          "base_uri": "https://localhost:8080/",
          "height": 69
        },
        "outputId": "9aeb8032-a461-4408-a305-db6f04722a22"
      },
      "execution_count": 5,
      "outputs": [
        {
          "output_type": "stream",
          "name": "stderr",
          "text": [
            "Tracing function \"print\" in package \"namespace:base\"\n",
            "\n"
          ]
        },
        {
          "output_type": "display_data",
          "data": {
            "text/html": [
              "'print'"
            ],
            "text/markdown": "'print'",
            "text/latex": "'print'",
            "text/plain": [
              "[1] \"print\""
            ]
          },
          "metadata": {}
        }
      ]
    },
    {
      "cell_type": "markdown",
      "source": [
        "# Load Libraries"
      ],
      "metadata": {
        "id": "OfZuYT2gMlzM"
      }
    },
    {
      "cell_type": "code",
      "source": [
        "# Code to run BKTR examples #\n",
        "# Lanthier, Lei, Sun and Labbe 2023 #\n",
        "\n",
        "library('BKTR')\n",
        "library(data.table)\n",
        "library(ggplot2)\n",
        "library('ggpubr')"
      ],
      "metadata": {
        "id": "KYiIqRaKVUEp"
      },
      "execution_count": 6,
      "outputs": []
    },
    {
      "cell_type": "markdown",
      "source": [
        "# Run BKTR"
      ],
      "metadata": {
        "id": "S58uiuyl7Izm"
      }
    },
    {
      "cell_type": "code",
      "source": [
        "###########################\n",
        "###########################\n",
        "# Section 4: BKTR Kernels #\n",
        "###########################\n",
        "###########################\n",
        "\n",
        "MIN_DAY <- 1\n",
        "MAX_DAY <- 21\n",
        "pos_df <- data.frame(day=MIN_DAY:MAX_DAY, pos = as.numeric(MIN_DAY:MAX_DAY))\n",
        "\n",
        "# Create three kernels: Periodic, SE and Local Periodic\n",
        "se_lengthscale <- KernelParameter$new(value = 10)\n",
        "per_length <- KernelParameter$new(value = 7, is_fixed = TRUE)\n",
        "k_periodic <- KernelPeriodic$new(period_length = per_length)\n",
        "k_se <- KernelSE$new(lengthscale = se_lengthscale)\n",
        "k_local_periodic <- k_periodic * k_se\n",
        "k_se$set_positions(pos_df)\n",
        "k_periodic$set_positions(pos_df)\n",
        "k_local_periodic$set_positions(pos_df)\n",
        "# Set their covariance matrices\n",
        "cov_per <- k_periodic$kernel_gen()\n",
        "cov_se <- k_se$kernel_gen()\n",
        "cov_lper <- k_local_periodic$kernel_gen()\n",
        "\n",
        "# Create plot scales\n",
        "sxd <- scale_x_discrete(\n",
        "  limits = factor(MIN_DAY:MAX_DAY),\n",
        "  breaks = as.character(seq(MIN_DAY, MAX_DAY, by = 2))\n",
        ")\n",
        "syd <- scale_y_discrete(\n",
        "  limits = factor(MAX_DAY:MIN_DAY),\n",
        "  breaks = as.character(seq(MAX_DAY, MIN_DAY, by = -2))\n",
        ")\n",
        "sfv <- scale_fill_viridis_c()\n",
        "\n",
        "# Plot each kernels\n",
        "p_se <- k_se$plot(show_figure = FALSE)\n",
        "p_per <- k_periodic$plot(show_figure = FALSE)\n",
        "p_lper <- k_local_periodic$plot(show_figure = FALSE)\n",
        "\n",
        "# Replace scales on all figure\n",
        "for (p in list(p_se, p_per, p_lper)) {\n",
        "  p$scales$scales <- list(sxd, syd, sfv)\n",
        "}\n",
        "\n",
        "# For good proportions in a notebook, uncomment the following line\n",
        "options(repr.plot.width = 11, repr.plot.height = 4.5)\n",
        "\n",
        "# Make one plot with all kernels (Figure 3)\n",
        "plt <- ggarrange(p_se, p_per, p_lper + ggtitle('Local Periodic Kernel'),\n",
        "          common.legend = TRUE, ncol = 3, legend = 'bottom')\n",
        "\n",
        "plt\n"
      ],
      "metadata": {
        "colab": {
          "base_uri": "https://localhost:8080/",
          "height": 287
        },
        "id": "6jIXUlKlFf4K",
        "outputId": "300f6e63-1070-4554-92b1-77c23fdf9a69"
      },
      "execution_count": 33,
      "outputs": [
        {
          "output_type": "display_data",
          "data": {
            "text/plain": [
              "plot without title"
            ],
            "image/png": "[encoded data removed]"
          },
          "metadata": {
            "image/png": {
              "width": 660,
              "height": 270
            }
          }
        }
      ]
    }
  ]
}