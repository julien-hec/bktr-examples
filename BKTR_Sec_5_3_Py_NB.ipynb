{
  "nbformat": 4,
  "nbformat_minor": 0,
  "metadata": {
    "colab": {
      "provenance": [],
      "machine_shape": "hm",
      "gpuType": "A100"
    },
    "kernelspec": {
      "name": "python3",
      "display_name": "Python 3"
    },
    "language_info": {
      "name": "python"
    },
    "accelerator": "GPU"
  },
  "cells": [
    {
      "cell_type": "markdown",
      "source": [
        "## System Setup"
      ],
      "metadata": {
        "id": "5lO24UXhW1a-"
      }
    },
    {
      "cell_type": "code",
      "source": [
        "# Find CPU info\n",
        "!grep -m1 'model name' /proc/cpuinfo | awk -F\": \" '{print $2}'\n",
        "!grep 'cpu cores' /proc/cpuinfo | awk -F\": \" '{a[cores]+=$2}END{print \"CPU cores: \" a[cores]}'"
      ],
      "metadata": {
        "colab": {
          "base_uri": "https://localhost:8080/"
        },
        "id": "smR8Q8xH2YBt",
        "outputId": "da20c99b-e5ba-49f8-faa1-0b710f017f5a"
      },
      "execution_count": 1,
      "outputs": [
        {
          "output_type": "stream",
          "name": "stdout",
          "text": [
            "Intel(R) Xeon(R) CPU @ 2.20GHz\n",
            "CPU cores: 72\n"
          ]
        }
      ]
    },
    {
      "cell_type": "code",
      "source": [
        "# Find Ram Info\n",
        "!grep MemTotal /proc/meminfo | awk '{printf \"%.1fGB RAM\", $2 / 1024 / 1024}'"
      ],
      "metadata": {
        "colab": {
          "base_uri": "https://localhost:8080/"
        },
        "id": "5HpZPL0o1RoD",
        "outputId": "aca3e555-eda8-45b7-e338-b2209f9dfebc"
      },
      "execution_count": 2,
      "outputs": [
        {
          "output_type": "stream",
          "name": "stdout",
          "text": [
            "83.5GB RAM"
          ]
        }
      ]
    },
    {
      "cell_type": "code",
      "source": [
        "!python3 --version"
      ],
      "metadata": {
        "colab": {
          "base_uri": "https://localhost:8080/"
        },
        "id": "f0T57Ojy1QIO",
        "outputId": "fd10d1fe-7100-4d86-bfeb-f77e577fe883"
      },
      "execution_count": 3,
      "outputs": [
        {
          "output_type": "stream",
          "name": "stdout",
          "text": [
            "Python 3.10.12\n"
          ]
        }
      ]
    },
    {
      "cell_type": "code",
      "source": [
        "!nvidia-smi"
      ],
      "metadata": {
        "colab": {
          "base_uri": "https://localhost:8080/"
        },
        "id": "o_gflF1SQ3Lm",
        "outputId": "ac89f716-8419-414c-b922-9f401111bef3"
      },
      "execution_count": 4,
      "outputs": [
        {
          "output_type": "stream",
          "name": "stdout",
          "text": [
            "Tue Aug 27 07:21:43 2024       \n",
            "+---------------------------------------------------------------------------------------+\n",
            "| NVIDIA-SMI 535.104.05             Driver Version: 535.104.05   CUDA Version: 12.2     |\n",
            "|-----------------------------------------+----------------------+----------------------+\n",
            "| GPU  Name                 Persistence-M | Bus-Id        Disp.A | Volatile Uncorr. ECC |\n",
            "| Fan  Temp   Perf          Pwr:Usage/Cap |         Memory-Usage | GPU-Util  Compute M. |\n",
            "|                                         |                      |               MIG M. |\n",
            "|=========================================+======================+======================|\n",
            "|   0  NVIDIA A100-SXM4-40GB          Off | 00000000:00:04.0 Off |                    0 |\n",
            "| N/A   33C    P0              43W / 400W |      2MiB / 40960MiB |      0%      Default |\n",
            "|                                         |                      |             Disabled |\n",
            "+-----------------------------------------+----------------------+----------------------+\n",
            "                                                                                         \n",
            "+---------------------------------------------------------------------------------------+\n",
            "| Processes:                                                                            |\n",
            "|  GPU   GI   CI        PID   Type   Process name                            GPU Memory |\n",
            "|        ID   ID                                                             Usage      |\n",
            "|=======================================================================================|\n",
            "|  No running processes found                                                           |\n",
            "+---------------------------------------------------------------------------------------+\n"
          ]
        }
      ]
    },
    {
      "cell_type": "code",
      "source": [
        "# !pip install git+https://github.com/julien-hec/pyBKTR.git\n",
        "!pip install pyBKTR"
      ],
      "metadata": {
        "colab": {
          "base_uri": "https://localhost:8080/"
        },
        "id": "j107q0qb1T6B",
        "outputId": "1fff5426-1166-4cd5-c401-818c6c26bdf5"
      },
      "execution_count": 5,
      "outputs": [
        {
          "output_type": "stream",
          "name": "stdout",
          "text": [
            "Requirement already satisfied: pyBKTR in /usr/local/lib/python3.10/dist-packages (0.2.0)\n",
            "Requirement already satisfied: torch>=1.12.1 in /usr/local/lib/python3.10/dist-packages (from pyBKTR) (2.4.0+cu121)\n",
            "Requirement already satisfied: numpy>=1.22.3 in /usr/local/lib/python3.10/dist-packages (from pyBKTR) (1.26.4)\n",
            "Requirement already satisfied: pandas>=1.4.2 in /usr/local/lib/python3.10/dist-packages (from pyBKTR) (2.1.4)\n",
            "Requirement already satisfied: plotly>=5.10.0 in /usr/local/lib/python3.10/dist-packages (from pyBKTR) (5.15.0)\n",
            "Requirement already satisfied: formulaic>=0.5.2 in /usr/local/lib/python3.10/dist-packages (from pyBKTR) (1.0.2)\n",
            "Requirement already satisfied: interface-meta>=1.2.0 in /usr/local/lib/python3.10/dist-packages (from formulaic>=0.5.2->pyBKTR) (1.3.0)\n",
            "Requirement already satisfied: scipy>=1.6 in /usr/local/lib/python3.10/dist-packages (from formulaic>=0.5.2->pyBKTR) (1.13.1)\n",
            "Requirement already satisfied: typing-extensions>=4.2.0 in /usr/local/lib/python3.10/dist-packages (from formulaic>=0.5.2->pyBKTR) (4.12.2)\n",
            "Requirement already satisfied: wrapt>=1.0 in /usr/local/lib/python3.10/dist-packages (from formulaic>=0.5.2->pyBKTR) (1.16.0)\n",
            "Requirement already satisfied: python-dateutil>=2.8.2 in /usr/local/lib/python3.10/dist-packages (from pandas>=1.4.2->pyBKTR) (2.8.2)\n",
            "Requirement already satisfied: pytz>=2020.1 in /usr/local/lib/python3.10/dist-packages (from pandas>=1.4.2->pyBKTR) (2024.1)\n",
            "Requirement already satisfied: tzdata>=2022.1 in /usr/local/lib/python3.10/dist-packages (from pandas>=1.4.2->pyBKTR) (2024.1)\n",
            "Requirement already satisfied: tenacity>=6.2.0 in /usr/local/lib/python3.10/dist-packages (from plotly>=5.10.0->pyBKTR) (9.0.0)\n",
            "Requirement already satisfied: packaging in /usr/local/lib/python3.10/dist-packages (from plotly>=5.10.0->pyBKTR) (24.1)\n",
            "Requirement already satisfied: filelock in /usr/local/lib/python3.10/dist-packages (from torch>=1.12.1->pyBKTR) (3.15.4)\n",
            "Requirement already satisfied: sympy in /usr/local/lib/python3.10/dist-packages (from torch>=1.12.1->pyBKTR) (1.13.2)\n",
            "Requirement already satisfied: networkx in /usr/local/lib/python3.10/dist-packages (from torch>=1.12.1->pyBKTR) (3.3)\n",
            "Requirement already satisfied: jinja2 in /usr/local/lib/python3.10/dist-packages (from torch>=1.12.1->pyBKTR) (3.1.4)\n",
            "Requirement already satisfied: fsspec in /usr/local/lib/python3.10/dist-packages (from torch>=1.12.1->pyBKTR) (2024.6.1)\n",
            "Requirement already satisfied: six>=1.5 in /usr/local/lib/python3.10/dist-packages (from python-dateutil>=2.8.2->pandas>=1.4.2->pyBKTR) (1.16.0)\n",
            "Requirement already satisfied: MarkupSafe>=2.0 in /usr/local/lib/python3.10/dist-packages (from jinja2->torch>=1.12.1->pyBKTR) (2.1.5)\n",
            "Requirement already satisfied: mpmath<1.4,>=1.1.0 in /usr/local/lib/python3.10/dist-packages (from sympy->torch>=1.12.1->pyBKTR) (1.3.0)\n"
          ]
        }
      ]
    },
    {
      "cell_type": "markdown",
      "source": [
        "## Library Setup"
      ],
      "metadata": {
        "id": "IQuBeZLSpg1-"
      }
    },
    {
      "cell_type": "code",
      "source": [
        "from pyBKTR.bktr import BKTRRegressor\n",
        "from pyBKTR.examples.bixi import BixiData\n",
        "from pyBKTR.kernels import KernelMatern, KernelParameter, KernelSE\n",
        "from pyBKTR.tensor_ops import TSR\n",
        "from pyBKTR.utils import simulate_spatiotemporal_data\n",
        "\n",
        "# Following two librairies are for results manipulation\n",
        "import numpy as np\n",
        "import pandas as pd"
      ],
      "metadata": {
        "id": "SwSUZSUKpmC9"
      },
      "execution_count": 6,
      "outputs": []
    },
    {
      "cell_type": "markdown",
      "source": [
        "## Interpolation Analysis (Section 5.3)"
      ],
      "metadata": {
        "id": "lbVam0yHobBC"
      }
    },
    {
      "cell_type": "code",
      "source": [
        "%%capture\n",
        "\n",
        "TSR.set_params('float32', 'cuda', 1)\n",
        "\n",
        "BURN_IN_ITER = 500\n",
        "SAMPLING_ITER = 500\n",
        "\n",
        "nb_aside_locs = 4\n",
        "nb_aside_times = 6\n",
        "\n",
        "df_res_arr = []\n",
        "\n",
        "for ds_type in ['Smaller', 'Larger']:\n",
        "    for len_scale in [3, 6]:\n",
        "        for i in range(1, 11):\n",
        "            matern_lengthscale = KernelParameter(value = len_scale)\n",
        "            se_lengthscale = KernelParameter(value = len_scale)\n",
        "            spatial_kernel = KernelMatern(\n",
        "                lengthscale = matern_lengthscale, smoothness_factor = 5\n",
        "            )\n",
        "            temporal_kernel = KernelSE(lengthscale = se_lengthscale)\n",
        "\n",
        "            nb_locs = 20 if ds_type == 'Smaller' else 100\n",
        "            nb_times = 30 if ds_type == 'Smaller' else 150\n",
        "            spa_cov_means = [0, 2] if ds_type == 'Smaller' else [0, 2, 4]\n",
        "            tem_cov_means = [1] if ds_type == 'Smaller' else [1, 3]\n",
        "\n",
        "            simu_data = simulate_spatiotemporal_data(\n",
        "                nb_locations=nb_locs,\n",
        "                nb_time_points=nb_times,\n",
        "                nb_spatial_dimensions=2,\n",
        "                spatial_scale=10,\n",
        "                time_scale=10,\n",
        "                spatial_covariates_means=spa_cov_means,\n",
        "                temporal_covariates_means=tem_cov_means,\n",
        "                spatial_kernel=spatial_kernel,\n",
        "                temporal_kernel=temporal_kernel,\n",
        "                noise_variance_scale=1\n",
        "            )\n",
        "\n",
        "            data_df = simu_data['data_df'].copy()\n",
        "            spatial_positions_df = simu_data['spatial_positions_df']\n",
        "            temporal_positions_df = simu_data['temporal_positions_df']\n",
        "\n",
        "            obs_nb_locs = nb_locs - nb_aside_locs\n",
        "            obs_nb_times = nb_times - nb_aside_times\n",
        "\n",
        "            all_locs = data_df.index.get_level_values(0).unique().to_list()\n",
        "            all_times = data_df.index.get_level_values(1).unique().to_list()\n",
        "\n",
        "            locs_indx_sample = list(TSR.rand_choice(\n",
        "                TSR.tensor(range(1, len(all_locs) + 1)),\n",
        "                obs_nb_locs\n",
        "            ).cpu().numpy())\n",
        "            obs_locs = [all_locs[int(i) - 1] for i in locs_indx_sample]\n",
        "            new_locs = list(set(all_locs) - set(obs_locs))\n",
        "\n",
        "            times_indx_sample = list(TSR.rand_choice(TSR.tensor(\n",
        "                range(1, len(all_times) + 1)),\n",
        "                obs_nb_times\n",
        "            ).cpu().numpy())\n",
        "            obs_times = [all_times[int(i) - 1] for i in times_indx_sample]\n",
        "            new_times = list(set(all_times) - set(obs_times))\n",
        "\n",
        "            obs_data_df = data_df.drop(index=new_locs, level='location')\n",
        "            obs_data_df = obs_data_df.drop(index=new_times, level='time')\n",
        "            obs_spatial_pos_df = spatial_positions_df.drop(index=new_locs,)\n",
        "            obs_temporal_pos_df = temporal_positions_df.drop(index=new_times,)\n",
        "\n",
        "            new_data_df = data_df[\n",
        "                (data_df.index.get_level_values(0).isin(new_locs)) |\n",
        "                (data_df.index.get_level_values(1).isin(new_times))\n",
        "            ].copy()\n",
        "            new_beta_data_df = simu_data['beta_df'][\n",
        "                simu_data['beta_df'].index.get_level_values(0).isin(new_locs) |\n",
        "                simu_data['beta_df'].index.get_level_values(1).isin(new_times)\n",
        "            ].copy()\n",
        "            new_spatial_pos_df = spatial_positions_df[\n",
        "                spatial_positions_df.index.isin(new_locs)\n",
        "            ].copy()\n",
        "            new_temporal_pos_df = temporal_positions_df[\n",
        "                temporal_positions_df.index.isin(new_times)\n",
        "            ].copy()\n",
        "\n",
        "\n",
        "            bktr_regressor = BKTRRegressor(\n",
        "                data_df = obs_data_df,\n",
        "                rank_decomp = 10,\n",
        "                burn_in_iter = BURN_IN_ITER,\n",
        "                sampling_iter = SAMPLING_ITER,\n",
        "                spatial_kernel = KernelMatern(smoothness_factor = 5),\n",
        "                spatial_positions_df = obs_spatial_pos_df,\n",
        "                temporal_kernel = KernelSE(),\n",
        "                temporal_positions_df = obs_temporal_pos_df,\n",
        "                has_geo_coords = False\n",
        "            )\n",
        "            bktr_regressor.mcmc_sampling()\n",
        "\n",
        "            preds_y_df, preds_beta_df = bktr_regressor.predict(\n",
        "                new_data_df,\n",
        "                new_spatial_pos_df,\n",
        "                new_temporal_pos_df\n",
        "            )\n",
        "\n",
        "            preds_y_df.sort_index(inplace=True)\n",
        "            new_data_df.sort_index(inplace=True)\n",
        "            preds_beta_df.sort_index(inplace=True)\n",
        "            new_beta_data_df.sort_index(inplace=True)\n",
        "            preds_y_err = (\n",
        "                new_data_df['y'].to_numpy() - preds_y_df['y'].to_numpy()\n",
        "            )\n",
        "            preds_beta_err = (\n",
        "                new_beta_data_df.to_numpy() - preds_beta_df.to_numpy()\n",
        "            )\n",
        "            df_res_arr.append([\n",
        "                ds_type,\n",
        "                len_scale,\n",
        "                i,\n",
        "                np.mean(np.abs(preds_beta_err)),\n",
        "                np.sqrt(np.mean(np.square(preds_beta_err))),\n",
        "                np.mean(np.abs(preds_y_err)),\n",
        "                np.sqrt(np.mean(np.square(preds_y_err))),\n",
        "            ])\n",
        "\n"
      ],
      "metadata": {
        "id": "OFfg_0UFobZ0"
      },
      "execution_count": 7,
      "outputs": []
    },
    {
      "cell_type": "code",
      "source": [
        "print('## Iterations dataframe ##')\n",
        "df = pd.DataFrame(df_res_arr, columns=[\n",
        "    'Dataset_Type', 'Lengthscale', 'Iter',\n",
        "    'B_MAE', 'B_RMSE', 'Y_MAE', 'Y_RMSE'\n",
        "])\n",
        "print(df)"
      ],
      "metadata": {
        "colab": {
          "base_uri": "https://localhost:8080/"
        },
        "id": "Wcjm0kYZo5ql",
        "outputId": "80a9da45-4450-4bb5-a09f-24d583aa1098"
      },
      "execution_count": 8,
      "outputs": [
        {
          "output_type": "stream",
          "name": "stdout",
          "text": [
            "## Iterations dataframe ##\n",
            "   Dataset_Type  Lengthscale  Iter     B_MAE    B_RMSE     Y_MAE    Y_RMSE\n",
            "0       Smaller            3     1  0.660119  0.871570  1.229162  1.566454\n",
            "1       Smaller            3     2  0.765964  0.984350  1.462015  1.954927\n",
            "2       Smaller            3     3  0.646867  0.907108  1.387590  1.908763\n",
            "3       Smaller            3     4  0.624262  0.937684  1.262828  1.596692\n",
            "4       Smaller            3     5  0.483263  0.658382  1.106988  1.379000\n",
            "5       Smaller            3     6  1.162499  1.619392  2.187072  3.313260\n",
            "6       Smaller            3     7  0.695293  0.935071  1.581736  2.136059\n",
            "7       Smaller            3     8  0.635039  0.822060  1.382198  1.855471\n",
            "8       Smaller            3     9  0.955343  1.330783  1.547371  2.048242\n",
            "9       Smaller            3    10  0.693688  0.969387  1.142089  1.444003\n",
            "10      Smaller            6     1  0.265941  0.338934  0.977999  1.243594\n",
            "11      Smaller            6     2  0.433679  0.631588  1.107326  1.407912\n",
            "12      Smaller            6     3  0.627655  0.965652  1.338733  1.940438\n",
            "13      Smaller            6     4  0.367233  0.488366  0.846802  1.058006\n",
            "14      Smaller            6     5  0.551268  0.674514  1.406131  1.793778\n",
            "15      Smaller            6     6  0.386646  0.488280  1.063355  1.493596\n",
            "16      Smaller            6     7  0.432166  0.636328  1.048108  1.337338\n",
            "17      Smaller            6     8  0.431277  0.690230  0.959096  1.176548\n",
            "18      Smaller            6     9  0.346741  0.484271  0.992617  1.252206\n",
            "19      Smaller            6    10  0.361731  0.508611  1.073025  1.374382\n",
            "20       Larger            3     1  1.649882  2.697211  4.367842  7.248670\n",
            "21       Larger            3     2  0.654155  0.934487  2.180745  3.066373\n",
            "22       Larger            3     3  0.683734  1.064642  2.241734  4.292544\n",
            "23       Larger            3     4  1.390645  2.179242  2.798013  4.839298\n",
            "24       Larger            3     5  0.651492  0.984147  1.319550  1.756115\n",
            "25       Larger            3     6  0.579799  0.924078  1.020823  1.302260\n",
            "26       Larger            3     7  0.978796  1.493865  3.106169  6.480537\n",
            "27       Larger            3     8  0.985839  1.770639  1.841580  2.789353\n",
            "28       Larger            3     9  1.996616  3.394204  4.578256  8.083294\n",
            "29       Larger            3    10  0.996352  1.682109  1.657171  2.326576\n",
            "30       Larger            6     1  0.177084  0.305645  0.865349  1.089471\n",
            "31       Larger            6     2  0.202643  0.311487  0.979831  1.221098\n",
            "32       Larger            6     3  0.286259  0.477284  1.009545  1.296891\n",
            "33       Larger            6     4  0.215138  0.339105  0.860197  1.065757\n",
            "34       Larger            6     5  0.213978  0.349888  0.845223  1.051334\n",
            "35       Larger            6     6  0.274702  0.463720  0.864356  1.099651\n",
            "36       Larger            6     7  0.443840  0.771296  1.694972  2.203496\n",
            "37       Larger            6     8  0.177800  0.274470  0.843431  1.072928\n",
            "38       Larger            6     9  0.236274  0.388041  1.039397  1.396465\n",
            "39       Larger            6    10  0.254182  0.418602  0.838547  1.053539\n"
          ]
        }
      ]
    },
    {
      "cell_type": "code",
      "source": [
        "print('## Aggregated dataframe ##')\n",
        "agg_df = df.groupby(['Dataset_Type', 'Lengthscale'])[[\n",
        "    'B_MAE', 'B_RMSE', 'Y_MAE', 'Y_RMSE'\n",
        "]].agg(['mean', 'std']).reset_index()\n",
        "print(agg_df)"
      ],
      "metadata": {
        "colab": {
          "base_uri": "https://localhost:8080/"
        },
        "id": "fitE7fdmqjaP",
        "outputId": "f1d2f15f-57c8-4ef8-8acf-0c701a10b24a"
      },
      "execution_count": 9,
      "outputs": [
        {
          "output_type": "stream",
          "name": "stdout",
          "text": [
            "## Aggregated dataframe ##\n",
            "  Dataset_Type Lengthscale     B_MAE              B_RMSE               Y_MAE  \\\n",
            "                                mean       std      mean       std      mean   \n",
            "0       Larger           3  1.056731  0.477765  1.712462  0.832991  2.511188   \n",
            "1       Larger           6  0.248190  0.078143  0.409954  0.143800  0.984085   \n",
            "2      Smaller           3  0.732234  0.192779  1.003579  0.274004  1.428905   \n",
            "3      Smaller           6  0.420434  0.103926  0.590677  0.171168  1.081319   \n",
            "\n",
            "               Y_RMSE            \n",
            "        std      mean       std  \n",
            "0  1.209082  4.218502  2.383817  \n",
            "1  0.261005  1.255063  0.353573  \n",
            "2  0.311014  1.920287  0.553633  \n",
            "3  0.170755  1.407780  0.273482  \n"
          ]
        }
      ]
    },
    {
      "cell_type": "code",
      "source": [
        "def format_var_row(row, var_symbol):\n",
        "    mae_key = f'{var_symbol}_MAE'\n",
        "    rmse_key = f'{var_symbol}_RMSE'\n",
        "    return (\n",
        "        f'{row[mae_key][\"mean\"]:.2f}±{row[mae_key][\"std\"]:.2f}'\n",
        "        f'/{row[rmse_key][\"mean\"]:.2f}±{row[rmse_key][\"std\"]:.2f}'\n",
        "    )\n",
        "\n",
        "fmt_df = agg_df.loc[:, ['Dataset_Type', 'Lengthscale']]\n",
        "fmt_df['B_res'] = agg_df[['B_MAE', 'B_RMSE']].apply(format_var_row, var_symbol='B', axis=1)\n",
        "fmt_df['Y_res'] = agg_df[['Y_MAE', 'Y_RMSE']].apply(format_var_row, var_symbol='Y', axis=1)\n",
        "fmt_df.sort_values(by=['Dataset_Type', 'Lengthscale'], ascending=[False, True])"
      ],
      "metadata": {
        "colab": {
          "base_uri": "https://localhost:8080/",
          "height": 189
        },
        "id": "MEZKVQVYqgm-",
        "outputId": "5a1ea48f-4492-4a21-d934-492fdddba9f8"
      },
      "execution_count": 15,
      "outputs": [
        {
          "output_type": "execute_result",
          "data": {
            "text/plain": [
              "  Dataset_Type Lengthscale                B_res                Y_res\n",
              "                                                                    \n",
              "2      Smaller           3  0.73±0.19/1.00±0.27  1.43±0.31/1.92±0.55\n",
              "3      Smaller           6  0.42±0.10/0.59±0.17  1.08±0.17/1.41±0.27\n",
              "0       Larger           3  1.06±0.48/1.71±0.83  2.51±1.21/4.22±2.38\n",
              "1       Larger           6  0.25±0.08/0.41±0.14  0.98±0.26/1.26±0.35"
            ],
            "text/html": [
              "\n",
              "  <div id=\"df-b9651ddb-ae78-4fda-ab6f-ec19b79ad1e6\" class=\"colab-df-container\">\n",
              "    <div>\n",
              "<style scoped>\n",
              "    .dataframe tbody tr th:only-of-type {\n",
              "        vertical-align: middle;\n",
              "    }\n",
              "\n",
              "    .dataframe tbody tr th {\n",
              "        vertical-align: top;\n",
              "    }\n",
              "\n",
              "    .dataframe thead tr th {\n",
              "        text-align: left;\n",
              "    }\n",
              "</style>\n",
              "<table border=\"1\" class=\"dataframe\">\n",
              "  <thead>\n",
              "    <tr>\n",
              "      <th></th>\n",
              "      <th>Dataset_Type</th>\n",
              "      <th>Lengthscale</th>\n",
              "      <th>B_res</th>\n",
              "      <th>Y_res</th>\n",
              "    </tr>\n",
              "    <tr>\n",
              "      <th></th>\n",
              "      <th></th>\n",
              "      <th></th>\n",
              "      <th></th>\n",
              "      <th></th>\n",
              "    </tr>\n",
              "  </thead>\n",
              "  <tbody>\n",
              "    <tr>\n",
              "      <th>2</th>\n",
              "      <td>Smaller</td>\n",
              "      <td>3</td>\n",
              "      <td>0.73±0.19/1.00±0.27</td>\n",
              "      <td>1.43±0.31/1.92±0.55</td>\n",
              "    </tr>\n",
              "    <tr>\n",
              "      <th>3</th>\n",
              "      <td>Smaller</td>\n",
              "      <td>6</td>\n",
              "      <td>0.42±0.10/0.59±0.17</td>\n",
              "      <td>1.08±0.17/1.41±0.27</td>\n",
              "    </tr>\n",
              "    <tr>\n",
              "      <th>0</th>\n",
              "      <td>Larger</td>\n",
              "      <td>3</td>\n",
              "      <td>1.06±0.48/1.71±0.83</td>\n",
              "      <td>2.51±1.21/4.22±2.38</td>\n",
              "    </tr>\n",
              "    <tr>\n",
              "      <th>1</th>\n",
              "      <td>Larger</td>\n",
              "      <td>6</td>\n",
              "      <td>0.25±0.08/0.41±0.14</td>\n",
              "      <td>0.98±0.26/1.26±0.35</td>\n",
              "    </tr>\n",
              "  </tbody>\n",
              "</table>\n",
              "</div>\n",
              "    <div class=\"colab-df-buttons\">\n",
              "\n",
              "  <div class=\"colab-df-container\">\n",
              "    <button class=\"colab-df-convert\" onclick=\"convertToInteractive('df-b9651ddb-ae78-4fda-ab6f-ec19b79ad1e6')\"\n",
              "            title=\"Convert this dataframe to an interactive table.\"\n",
              "            style=\"display:none;\">\n",
              "\n",
              "  <svg xmlns=\"http://www.w3.org/2000/svg\" height=\"24px\" viewBox=\"0 -960 960 960\">\n",
              "    <path d=\"M120-120v-720h720v720H120Zm60-500h600v-160H180v160Zm220 220h160v-160H400v160Zm0 220h160v-160H400v160ZM180-400h160v-160H180v160Zm440 0h160v-160H620v160ZM180-180h160v-160H180v160Zm440 0h160v-160H620v160Z\"/>\n",
              "  </svg>\n",
              "    </button>\n",
              "\n",
              "  <style>\n",
              "    .colab-df-container {\n",
              "      display:flex;\n",
              "      gap: 12px;\n",
              "    }\n",
              "\n",
              "    .colab-df-convert {\n",
              "      background-color: #E8F0FE;\n",
              "      border: none;\n",
              "      border-radius: 50%;\n",
              "      cursor: pointer;\n",
              "      display: none;\n",
              "      fill: #1967D2;\n",
              "      height: 32px;\n",
              "      padding: 0 0 0 0;\n",
              "      width: 32px;\n",
              "    }\n",
              "\n",
              "    .colab-df-convert:hover {\n",
              "      background-color: #E2EBFA;\n",
              "      box-shadow: 0px 1px 2px rgba(60, 64, 67, 0.3), 0px 1px 3px 1px rgba(60, 64, 67, 0.15);\n",
              "      fill: #174EA6;\n",
              "    }\n",
              "\n",
              "    .colab-df-buttons div {\n",
              "      margin-bottom: 4px;\n",
              "    }\n",
              "\n",
              "    [theme=dark] .colab-df-convert {\n",
              "      background-color: #3B4455;\n",
              "      fill: #D2E3FC;\n",
              "    }\n",
              "\n",
              "    [theme=dark] .colab-df-convert:hover {\n",
              "      background-color: #434B5C;\n",
              "      box-shadow: 0px 1px 3px 1px rgba(0, 0, 0, 0.15);\n",
              "      filter: drop-shadow(0px 1px 2px rgba(0, 0, 0, 0.3));\n",
              "      fill: #FFFFFF;\n",
              "    }\n",
              "  </style>\n",
              "\n",
              "    <script>\n",
              "      const buttonEl =\n",
              "        document.querySelector('#df-b9651ddb-ae78-4fda-ab6f-ec19b79ad1e6 button.colab-df-convert');\n",
              "      buttonEl.style.display =\n",
              "        google.colab.kernel.accessAllowed ? 'block' : 'none';\n",
              "\n",
              "      async function convertToInteractive(key) {\n",
              "        const element = document.querySelector('#df-b9651ddb-ae78-4fda-ab6f-ec19b79ad1e6');\n",
              "        const dataTable =\n",
              "          await google.colab.kernel.invokeFunction('convertToInteractive',\n",
              "                                                    [key], {});\n",
              "        if (!dataTable) return;\n",
              "\n",
              "        const docLinkHtml = 'Like what you see? Visit the ' +\n",
              "          '<a target=\"_blank\" href=https://colab.research.google.com/notebooks/data_table.ipynb>data table notebook</a>'\n",
              "          + ' to learn more about interactive tables.';\n",
              "        element.innerHTML = '';\n",
              "        dataTable['output_type'] = 'display_data';\n",
              "        await google.colab.output.renderOutput(dataTable, element);\n",
              "        const docLink = document.createElement('div');\n",
              "        docLink.innerHTML = docLinkHtml;\n",
              "        element.appendChild(docLink);\n",
              "      }\n",
              "    </script>\n",
              "  </div>\n",
              "\n",
              "\n",
              "<div id=\"df-72509908-4acd-46ac-90bf-9003b9684a66\">\n",
              "  <button class=\"colab-df-quickchart\" onclick=\"quickchart('df-72509908-4acd-46ac-90bf-9003b9684a66')\"\n",
              "            title=\"Suggest charts\"\n",
              "            style=\"display:none;\">\n",
              "\n",
              "<svg xmlns=\"http://www.w3.org/2000/svg\" height=\"24px\"viewBox=\"0 0 24 24\"\n",
              "     width=\"24px\">\n",
              "    <g>\n",
              "        <path d=\"M19 3H5c-1.1 0-2 .9-2 2v14c0 1.1.9 2 2 2h14c1.1 0 2-.9 2-2V5c0-1.1-.9-2-2-2zM9 17H7v-7h2v7zm4 0h-2V7h2v10zm4 0h-2v-4h2v4z\"/>\n",
              "    </g>\n",
              "</svg>\n",
              "  </button>\n",
              "\n",
              "<style>\n",
              "  .colab-df-quickchart {\n",
              "      --bg-color: #E8F0FE;\n",
              "      --fill-color: #1967D2;\n",
              "      --hover-bg-color: #E2EBFA;\n",
              "      --hover-fill-color: #174EA6;\n",
              "      --disabled-fill-color: #AAA;\n",
              "      --disabled-bg-color: #DDD;\n",
              "  }\n",
              "\n",
              "  [theme=dark] .colab-df-quickchart {\n",
              "      --bg-color: #3B4455;\n",
              "      --fill-color: #D2E3FC;\n",
              "      --hover-bg-color: #434B5C;\n",
              "      --hover-fill-color: #FFFFFF;\n",
              "      --disabled-bg-color: #3B4455;\n",
              "      --disabled-fill-color: #666;\n",
              "  }\n",
              "\n",
              "  .colab-df-quickchart {\n",
              "    background-color: var(--bg-color);\n",
              "    border: none;\n",
              "    border-radius: 50%;\n",
              "    cursor: pointer;\n",
              "    display: none;\n",
              "    fill: var(--fill-color);\n",
              "    height: 32px;\n",
              "    padding: 0;\n",
              "    width: 32px;\n",
              "  }\n",
              "\n",
              "  .colab-df-quickchart:hover {\n",
              "    background-color: var(--hover-bg-color);\n",
              "    box-shadow: 0 1px 2px rgba(60, 64, 67, 0.3), 0 1px 3px 1px rgba(60, 64, 67, 0.15);\n",
              "    fill: var(--button-hover-fill-color);\n",
              "  }\n",
              "\n",
              "  .colab-df-quickchart-complete:disabled,\n",
              "  .colab-df-quickchart-complete:disabled:hover {\n",
              "    background-color: var(--disabled-bg-color);\n",
              "    fill: var(--disabled-fill-color);\n",
              "    box-shadow: none;\n",
              "  }\n",
              "\n",
              "  .colab-df-spinner {\n",
              "    border: 2px solid var(--fill-color);\n",
              "    border-color: transparent;\n",
              "    border-bottom-color: var(--fill-color);\n",
              "    animation:\n",
              "      spin 1s steps(1) infinite;\n",
              "  }\n",
              "\n",
              "  @keyframes spin {\n",
              "    0% {\n",
              "      border-color: transparent;\n",
              "      border-bottom-color: var(--fill-color);\n",
              "      border-left-color: var(--fill-color);\n",
              "    }\n",
              "    20% {\n",
              "      border-color: transparent;\n",
              "      border-left-color: var(--fill-color);\n",
              "      border-top-color: var(--fill-color);\n",
              "    }\n",
              "    30% {\n",
              "      border-color: transparent;\n",
              "      border-left-color: var(--fill-color);\n",
              "      border-top-color: var(--fill-color);\n",
              "      border-right-color: var(--fill-color);\n",
              "    }\n",
              "    40% {\n",
              "      border-color: transparent;\n",
              "      border-right-color: var(--fill-color);\n",
              "      border-top-color: var(--fill-color);\n",
              "    }\n",
              "    60% {\n",
              "      border-color: transparent;\n",
              "      border-right-color: var(--fill-color);\n",
              "    }\n",
              "    80% {\n",
              "      border-color: transparent;\n",
              "      border-right-color: var(--fill-color);\n",
              "      border-bottom-color: var(--fill-color);\n",
              "    }\n",
              "    90% {\n",
              "      border-color: transparent;\n",
              "      border-bottom-color: var(--fill-color);\n",
              "    }\n",
              "  }\n",
              "</style>\n",
              "\n",
              "  <script>\n",
              "    async function quickchart(key) {\n",
              "      const quickchartButtonEl =\n",
              "        document.querySelector('#' + key + ' button');\n",
              "      quickchartButtonEl.disabled = true;  // To prevent multiple clicks.\n",
              "      quickchartButtonEl.classList.add('colab-df-spinner');\n",
              "      try {\n",
              "        const charts = await google.colab.kernel.invokeFunction(\n",
              "            'suggestCharts', [key], {});\n",
              "      } catch (error) {\n",
              "        console.error('Error during call to suggestCharts:', error);\n",
              "      }\n",
              "      quickchartButtonEl.classList.remove('colab-df-spinner');\n",
              "      quickchartButtonEl.classList.add('colab-df-quickchart-complete');\n",
              "    }\n",
              "    (() => {\n",
              "      let quickchartButtonEl =\n",
              "        document.querySelector('#df-72509908-4acd-46ac-90bf-9003b9684a66 button');\n",
              "      quickchartButtonEl.style.display =\n",
              "        google.colab.kernel.accessAllowed ? 'block' : 'none';\n",
              "    })();\n",
              "  </script>\n",
              "</div>\n",
              "\n",
              "    </div>\n",
              "  </div>\n"
            ],
            "application/vnd.google.colaboratory.intrinsic+json": {
              "type": "dataframe",
              "summary": "{\n  \"name\": \"fmt_df\",\n  \"rows\": 4,\n  \"fields\": [\n    {\n      \"column\": [\n        \"Dataset_Type\",\n        \"\"\n      ],\n      \"properties\": {\n        \"dtype\": \"string\",\n        \"num_unique_values\": 2,\n        \"samples\": [\n          \"Larger\",\n          \"Smaller\"\n        ],\n        \"semantic_type\": \"\",\n        \"description\": \"\"\n      }\n    },\n    {\n      \"column\": [\n        \"Lengthscale\",\n        \"\"\n      ],\n      \"properties\": {\n        \"dtype\": \"number\",\n        \"std\": 1,\n        \"min\": 3,\n        \"max\": 6,\n        \"num_unique_values\": 2,\n        \"samples\": [\n          6,\n          3\n        ],\n        \"semantic_type\": \"\",\n        \"description\": \"\"\n      }\n    },\n    {\n      \"column\": [\n        \"B_res\",\n        \"\"\n      ],\n      \"properties\": {\n        \"dtype\": \"string\",\n        \"num_unique_values\": 4,\n        \"samples\": [\n          \"0.42\\u00b10.10/0.59\\u00b10.17\",\n          \"0.25\\u00b10.08/0.41\\u00b10.14\"\n        ],\n        \"semantic_type\": \"\",\n        \"description\": \"\"\n      }\n    },\n    {\n      \"column\": [\n        \"Y_res\",\n        \"\"\n      ],\n      \"properties\": {\n        \"dtype\": \"string\",\n        \"num_unique_values\": 4,\n        \"samples\": [\n          \"1.08\\u00b10.17/1.41\\u00b10.27\",\n          \"0.98\\u00b10.26/1.26\\u00b10.35\"\n        ],\n        \"semantic_type\": \"\",\n        \"description\": \"\"\n      }\n    }\n  ]\n}"
            }
          },
          "metadata": {},
          "execution_count": 15
        }
      ]
    }
  ]
}