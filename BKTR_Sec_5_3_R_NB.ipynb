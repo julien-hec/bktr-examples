{
  "nbformat": 4,
  "nbformat_minor": 0,
  "metadata": {
    "colab": {
      "provenance": [],
      "machine_shape": "hm",
      "gpuType": "A100"
    },
    "kernelspec": {
      "name": "ir",
      "display_name": "R"
    },
    "language_info": {
      "name": "R"
    },
    "accelerator": "GPU"
  },
  "cells": [
    {
      "cell_type": "markdown",
      "source": [
        "# Setup"
      ],
      "metadata": {
        "id": "l_6_AYdg6-fO"
      }
    },
    {
      "cell_type": "code",
      "source": [
        "# Get VM CPU and R version\n",
        "shell_call <- function(command, ...) {\n",
        "  result <- system(command, intern = TRUE, ...)\n",
        "  cat(paste0(result, collapse = \"\\n\"))\n",
        "}\n",
        "shell_call(\"grep -m1 'model name' /proc/cpuinfo | awk -F': ' '{printf \\\" CPU Model: %s \\\\n \\\",  $2}'\")\n",
        "shell_call(\"grep 'cpu cores' /proc/cpuinfo  | awk -F': ' '{a[cores]+=$2}END{printf \\\"CPU Cores: %s \\\\n \\\", a[cores] }'\")\n",
        "shell_call(\"grep MemTotal /proc/meminfo | awk '{printf \\\"RAM: %.1fGB \\\\n \\\", $2 / 1024 / 1024}'\")\n",
        "shell_call(\"R --version | head -n 1\")"
      ],
      "metadata": {
        "colab": {
          "base_uri": "https://localhost:8080/"
        },
        "id": "0Yizs7MNLXtu",
        "outputId": "cfef16cc-b89b-4fae-fba0-0a37f8610504"
      },
      "execution_count": 1,
      "outputs": [
        {
          "output_type": "stream",
          "name": "stdout",
          "text": [
            " CPU Model: Intel(R) Xeon(R) CPU @ 2.20GHz \n",
            " CPU Cores: 72 \n",
            " RAM: 83.5GB \n",
            " R version 4.4.1 (2024-06-14) -- \"Race for Your Life\""
          ]
        }
      ]
    },
    {
      "cell_type": "code",
      "source": [
        "# Get GPU Info\n",
        "shell_call(\"nvidia-smi\")"
      ],
      "metadata": {
        "colab": {
          "base_uri": "https://localhost:8080/"
        },
        "id": "-SY3rqv0iozX",
        "outputId": "8c23e0d4-1a93-4d59-9114-f9b9613259b3"
      },
      "execution_count": 2,
      "outputs": [
        {
          "output_type": "stream",
          "name": "stdout",
          "text": [
            "Tue Aug 27 03:11:16 2024       \n",
            "+---------------------------------------------------------------------------------------+\n",
            "| NVIDIA-SMI 535.104.05             Driver Version: 535.104.05   CUDA Version: 12.2     |\n",
            "|-----------------------------------------+----------------------+----------------------+\n",
            "| GPU  Name                 Persistence-M | Bus-Id        Disp.A | Volatile Uncorr. ECC |\n",
            "| Fan  Temp   Perf          Pwr:Usage/Cap |         Memory-Usage | GPU-Util  Compute M. |\n",
            "|                                         |                      |               MIG M. |\n",
            "|=========================================+======================+======================|\n",
            "|   0  NVIDIA A100-SXM4-40GB          Off | 00000000:00:04.0 Off |                    0 |\n",
            "| N/A   32C    P0              44W / 400W |      2MiB / 40960MiB |      0%      Default |\n",
            "|                                         |                      |             Disabled |\n",
            "+-----------------------------------------+----------------------+----------------------+\n",
            "                                                                                         \n",
            "+---------------------------------------------------------------------------------------+\n",
            "| Processes:                                                                            |\n",
            "|  GPU   GI   CI        PID   Type   Process name                            GPU Memory |\n",
            "|        ID   ID                                                             Usage      |\n",
            "|=======================================================================================|\n",
            "|  No running processes found                                                           |\n",
            "+---------------------------------------------------------------------------------------+"
          ]
        }
      ]
    },
    {
      "cell_type": "code",
      "source": [
        "# Install Torch with valid CUDA version\n",
        "\n",
        "options(timeout = 600) # increasing timeout is recommended since we will be downloading a 2GB file.\n",
        "# For Windows and Linux: \"cpu\", \"cu117\", \"cu118\" are the only currently supported\n",
        "# For MacOS the supported are: \"cpu-intel\" or \"cpu-m1\"\n",
        "kind <- \"cu118\"\n",
        "version <- available.packages()[\"torch\",\"Version\"]\n",
        "options(repos = c(\n",
        "  torch = sprintf(\"https://torch-cdn.mlverse.org/packages/%s/%s/\", kind, version),\n",
        "  CRAN = \"https://cloud.r-project.org\" # or any other from which you want to install the other R dependencies.\n",
        "))\n",
        "\n",
        "install.packages(\"torch\")"
      ],
      "metadata": {
        "colab": {
          "base_uri": "https://localhost:8080/"
        },
        "id": "Rc_sOGdU7hTY",
        "outputId": "3f374f1f-7fbe-4645-8dcc-d678713ebce9"
      },
      "execution_count": 3,
      "outputs": [
        {
          "output_type": "stream",
          "name": "stderr",
          "text": [
            "Installing package into ‘/usr/local/lib/R/site-library’\n",
            "(as ‘lib’ is unspecified)\n",
            "\n",
            "also installing the dependencies ‘coro’, ‘safetensors’\n",
            "\n",
            "\n"
          ]
        }
      ]
    },
    {
      "cell_type": "code",
      "source": [
        "# Test Torch installation\n",
        "\n",
        "library(torch)\n",
        "torch_rand(4)"
      ],
      "metadata": {
        "id": "B03MTSwTKpdA",
        "colab": {
          "base_uri": "https://localhost:8080/",
          "height": 121
        },
        "outputId": "67fd9b97-0915-45b0-d45a-53c7cf9983ad"
      },
      "execution_count": 4,
      "outputs": [
        {
          "output_type": "display_data",
          "data": {
            "text/plain": [
              "torch_tensor\n",
              " 0.2153\n",
              " 0.1182\n",
              " 0.1141\n",
              " 0.2897\n",
              "[ CPUFloatType{4} ]"
            ]
          },
          "metadata": {}
        }
      ]
    },
    {
      "cell_type": "code",
      "source": [
        "# Install BKTR\n",
        "\n",
        "install.packages('BKTR')\n",
        "\n",
        "### From Github (Latest Version)\n",
        "# install.packages(\"devtools\") # if not installed\n",
        "# devtools::install_github(\"julien-hec/BKTR\", ref = \"main\")\n",
        "\n",
        "# For section 4 side by side plots\n",
        "# install.packages('ggpubr')"
      ],
      "metadata": {
        "id": "4j3Z-s2x3qqx",
        "colab": {
          "base_uri": "https://localhost:8080/"
        },
        "outputId": "7f14805b-6823-4619-f5fc-d1b30c20cac5"
      },
      "execution_count": 5,
      "outputs": [
        {
          "output_type": "stream",
          "name": "stderr",
          "text": [
            "Installing package into ‘/usr/local/lib/R/site-library’\n",
            "(as ‘lib’ is unspecified)\n",
            "\n",
            "also installing the dependencies ‘collections’, ‘png’, ‘plyr’, ‘jpeg’, ‘bitops’, ‘R6P’, ‘ggmap’\n",
            "\n",
            "\n"
          ]
        }
      ]
    },
    {
      "cell_type": "code",
      "source": [
        "# The following block is because Jupyter for R does not print until the end of\n",
        "# the code block execution. So, with this command we add real time printing.\n",
        "# See: https://stackoverflow.com/questions/37689694/real-time-printing-to-console-with-r-in-jupyter\n",
        "trace(what = \"print\", where = getNamespace(\"base\"), exit = flush.console, print = FALSE)"
      ],
      "metadata": {
        "id": "XazYp5Bf63TO",
        "colab": {
          "base_uri": "https://localhost:8080/",
          "height": 69
        },
        "outputId": "f2bdc451-aaf6-42e7-cae0-09a6b8d32feb"
      },
      "execution_count": 6,
      "outputs": [
        {
          "output_type": "stream",
          "name": "stderr",
          "text": [
            "Tracing function \"print\" in package \"namespace:base\"\n",
            "\n"
          ]
        },
        {
          "output_type": "display_data",
          "data": {
            "text/html": [
              "'print'"
            ],
            "text/markdown": "'print'",
            "text/latex": "'print'",
            "text/plain": [
              "[1] \"print\""
            ]
          },
          "metadata": {}
        }
      ]
    },
    {
      "cell_type": "markdown",
      "source": [
        "# Load Libraries"
      ],
      "metadata": {
        "id": "OfZuYT2gMlzM"
      }
    },
    {
      "cell_type": "code",
      "source": [
        "# Code to run BKTR examples #\n",
        "# Lanthier, Lei, Sun and Labbe 2023 #\n",
        "\n",
        "library('BKTR')\n",
        "library(data.table)\n",
        "library(ggplot2)\n",
        "# library('ggpubr')"
      ],
      "metadata": {
        "id": "KYiIqRaKVUEp"
      },
      "execution_count": 7,
      "outputs": []
    },
    {
      "cell_type": "markdown",
      "source": [
        "# Run BKTR"
      ],
      "metadata": {
        "id": "S58uiuyl7Izm"
      }
    },
    {
      "cell_type": "markdown",
      "source": [
        "## Results by lenghtscale and dataset size"
      ],
      "metadata": {
        "id": "admn1Tn4wFAC"
      }
    },
    {
      "cell_type": "code",
      "source": [
        "\n",
        "##########################\n",
        "### 5.3: Interpolation ###\n",
        "##########################\n",
        "\n",
        "# Part for Table 6, influence of lengthscale values and dataset size\n",
        "nb_aside_locs <- 4\n",
        "nb_aside_times <- 6\n",
        "\n",
        "# Set seed and calculation params\n",
        "TSR$set_params(seed = 2, fp_type = 'float32', fp_device = 'cuda')\n",
        "res_colnames <- c(\n",
        "    'Dataset_Type', 'Lengthscale', 'Iter', 'B_MAE',\n",
        "    'B_RMSE', 'Y_MAE', 'Y_RMSE', 'Time'\n",
        ")\n",
        "nb_res_cols <- length(res_colnames)\n",
        "res_vals <- c()\n",
        "\n",
        "# Run simulation for different lengthscale and dataset size\n",
        "for (ds_type in c('Smaller', 'Larger')) {\n",
        "  for (len_scale in c(3, 6)) {\n",
        "    for (i in 1:10) {\n",
        "      # Adding some progression debug prints\n",
        "      debug_msg <- sprintf(\n",
        "        'DS Type: %s, Lengthscale: %d, Iter: %02d',\n",
        "        ds_type, len_scale, i\n",
        "      )\n",
        "      print(debug_msg)\n",
        "\n",
        "      matern_lengthscale <- KernelParameter$new(value = len_scale)\n",
        "      se_lengthscale <- KernelParameter$new(value = len_scale)\n",
        "      spatial_kernel <- KernelMatern$new(\n",
        "        lengthscale = matern_lengthscale, smoothness_factor = 5)\n",
        "      temporal_kernel <- KernelSE$new(lengthscale = se_lengthscale)\n",
        "\n",
        "      is_small_ds <- ds_type == 'Smaller'\n",
        "      nb_locs <- ifelse(is_small_ds, 20, 100)\n",
        "      nb_times <- ifelse(is_small_ds, 30, 150)\n",
        "      spa_cov_means <- if (is_small_ds) c(0, 2) else c(0, 2, 4)\n",
        "      tem_cov_means <- if (is_small_ds) c(1) else c(1, 3)\n",
        "\n",
        "      simu_data <- simulate_spatiotemporal_data(\n",
        "        nb_locations = nb_locs,\n",
        "        nb_time_points = nb_times,\n",
        "        nb_spatial_dimensions = 2,\n",
        "        spatial_scale = 10,\n",
        "        time_scale = 10,\n",
        "        spatial_covariates_means = spa_cov_means,\n",
        "        temporal_covariates_means = tem_cov_means,\n",
        "        spatial_kernel = spatial_kernel,\n",
        "        temporal_kernel = temporal_kernel,\n",
        "        noise_variance_scale = 1\n",
        "      )\n",
        "\n",
        "      # Set some values aside for M_new locs and N_new times\n",
        "      obs_nb_locs <- nb_locs - nb_aside_locs\n",
        "      obs_nb_times <- nb_times - nb_aside_times\n",
        "\n",
        "      data_df <- simu_data$data_df\n",
        "      spatial_pos_df <- simu_data$spatial_positions_df\n",
        "      temporal_pos_df <- simu_data$temporal_positions_df\n",
        "\n",
        "      all_locs <- spatial_pos_df$location\n",
        "      all_times <- temporal_pos_df$time\n",
        "\n",
        "      locs_indx_sample <- TSR$rand_choice(\n",
        "        TSR$tensor(1:length(all_locs)), obs_nb_locs)\n",
        "      obs_locs <- all_locs[as.numeric(locs_indx_sample$cpu())]\n",
        "      new_locs <- setdiff(all_locs, obs_locs)\n",
        "\n",
        "      times_indx_sample <- TSR$rand_choice(\n",
        "        TSR$tensor(1:length(all_times)), obs_nb_times)\n",
        "      obs_times <- all_times[as.numeric(times_indx_sample$cpu())]\n",
        "      new_times <- setdiff(all_times, obs_times)\n",
        "\n",
        "      obs_data_df <- data_df[\n",
        "        data_df[, .I[location %in% obs_locs & time %in% obs_times]], ]\n",
        "      obs_spatial_pos_df <- spatial_pos_df[\n",
        "        spatial_pos_df[, .I[location %in% obs_locs]], ]\n",
        "      obs_temporal_pos_df <- temporal_pos_df[\n",
        "        temporal_pos_df[, .I[time %in% obs_times]], ]\n",
        "\n",
        "      new_data_df <- data_df[\n",
        "        data_df[, .I[location %in% new_locs | time %in% new_times]], ]\n",
        "      new_spatial_positions_df <- spatial_pos_df[\n",
        "        spatial_pos_df[, .I[location %in% new_locs]], ]\n",
        "      new_temporal_positions_df <- temporal_pos_df[\n",
        "        temporal_pos_df[, .I[time %in% new_times]], ]\n",
        "\n",
        "      # Run mcmc sampling\n",
        "      bktr_regressor <- BKTRRegressor$new(\n",
        "        data_df = obs_data_df,\n",
        "        rank_decomp = 10,\n",
        "        burn_in_iter = 500,\n",
        "        sampling_iter = 500,\n",
        "        spatial_kernel = KernelMatern$new(smoothness_factor = 5),\n",
        "        spatial_positions_df = obs_spatial_pos_df,\n",
        "        temporal_kernel = KernelSE$new(),\n",
        "        temporal_positions_df = obs_temporal_pos_df,\n",
        "        has_geo_coords = FALSE\n",
        "      )\n",
        "      # Hide output of sampling because its volume creates notebook errors\n",
        "      .unused_out <- capture.output(bktr_regressor$mcmc_sampling())\n",
        "\n",
        "      # Run interpolation\n",
        "      preds <- bktr_regressor$predict(\n",
        "        new_data_df,\n",
        "        new_spatial_positions_df,\n",
        "        new_temporal_positions_df\n",
        "      )\n",
        "\n",
        "      # Align both datasets\n",
        "      sim_data_df <- simu_data$data_df\n",
        "      pred_y_df <- preds$new_y_df\n",
        "      beta_data_df <- simu_data$beta_df\n",
        "      beta_pred_df <- preds$new_beta_df\n",
        "      setkey(beta_pred_df, location, time)\n",
        "      sim_y_df <- sim_data_df[\n",
        "        sim_data_df[, .I[location %in% new_locs | time %in% new_times]],\n",
        "        c('location', 'time', 'y')\n",
        "      ]\n",
        "      setorderv(pred_y_df, c('location', 'time'))\n",
        "      setorderv(sim_y_df, c('location', 'time'))\n",
        "\n",
        "      # Calc Errors\n",
        "      preds_y_err <- (\n",
        "        sim_data_df[\n",
        "          sim_data_df[, .I[location %in% new_locs | time %in% new_times]],\n",
        "          'y']\n",
        "        - pred_y_df[\n",
        "            pred_y_df[, .I[location %in% new_locs | time %in% new_times]],\n",
        "            'y_est']\n",
        "      )\n",
        "      preds_y_err <- unlist(preds_y_err)\n",
        "      preds_beta_err <- (\n",
        "        beta_data_df[\n",
        "          beta_data_df[, .I[location %in% new_locs | time %in% new_times]],\n",
        "          -c('location', 'time')]\n",
        "        - beta_pred_df[\n",
        "            beta_pred_df[, .I[location %in% new_locs | time %in% new_times]],\n",
        "            -c('location', 'time')]\n",
        "      )\n",
        "      preds_beta_err <- unlist(preds_beta_err)\n",
        "\n",
        "      y_rmse <- sqrt(mean(preds_y_err^2))\n",
        "      y_mae <- mean(abs(preds_y_err))\n",
        "      beta_rmse <- sqrt(mean(preds_beta_err^2))\n",
        "      beta_mae <- mean(abs(preds_beta_err))\n",
        "\n",
        "      # Formatting Values\n",
        "      res_vals <- c(\n",
        "        res_vals,\n",
        "        ds_type,\n",
        "        len_scale,\n",
        "        sprintf('%04d', i),\n",
        "        sprintf('%.4f', beta_mae),\n",
        "        sprintf('%.4f', beta_rmse),\n",
        "        sprintf('%.4f', y_mae),\n",
        "        sprintf('%.4f', y_rmse),\n",
        "        sprintf('%.3f', as.numeric(\n",
        "          bktr_regressor$result_logger$total_elapsed_time,units=\"secs\"\n",
        "        ))\n",
        "      )\n",
        "    }\n",
        "  }\n",
        "}\n",
        "df <- as.data.table(matrix(res_vals, ncol = nb_res_cols, byrow = TRUE))\n",
        "colnames(df) <- res_colnames\n"
      ],
      "metadata": {
        "colab": {
          "base_uri": "https://localhost:8080/"
        },
        "id": "6nehs3ddvrXw",
        "outputId": "8410fabb-21ad-4d41-b008-20937714ec77"
      },
      "execution_count": 29,
      "outputs": [
        {
          "output_type": "stream",
          "name": "stdout",
          "text": [
            "[1] \"DS Type: Smaller, Lengthscale: 3, Iter: 01\"\n",
            "[1] \"DS Type: Smaller, Lengthscale: 3, Iter: 02\"\n",
            "[1] \"DS Type: Smaller, Lengthscale: 3, Iter: 03\"\n",
            "[1] \"DS Type: Smaller, Lengthscale: 3, Iter: 04\"\n",
            "[1] \"DS Type: Smaller, Lengthscale: 3, Iter: 05\"\n",
            "[1] \"DS Type: Smaller, Lengthscale: 3, Iter: 06\"\n",
            "[1] \"DS Type: Smaller, Lengthscale: 3, Iter: 07\"\n",
            "[1] \"DS Type: Smaller, Lengthscale: 3, Iter: 08\"\n",
            "[1] \"DS Type: Smaller, Lengthscale: 3, Iter: 09\"\n",
            "[1] \"DS Type: Smaller, Lengthscale: 3, Iter: 10\"\n",
            "[1] \"DS Type: Smaller, Lengthscale: 6, Iter: 01\"\n",
            "[1] \"DS Type: Smaller, Lengthscale: 6, Iter: 02\"\n",
            "[1] \"DS Type: Smaller, Lengthscale: 6, Iter: 03\"\n",
            "[1] \"DS Type: Smaller, Lengthscale: 6, Iter: 04\"\n",
            "[1] \"DS Type: Smaller, Lengthscale: 6, Iter: 05\"\n",
            "[1] \"DS Type: Smaller, Lengthscale: 6, Iter: 06\"\n",
            "[1] \"DS Type: Smaller, Lengthscale: 6, Iter: 07\"\n",
            "[1] \"DS Type: Smaller, Lengthscale: 6, Iter: 08\"\n",
            "[1] \"DS Type: Smaller, Lengthscale: 6, Iter: 09\"\n",
            "[1] \"DS Type: Smaller, Lengthscale: 6, Iter: 10\"\n",
            "[1] \"DS Type: Larger, Lengthscale: 3, Iter: 01\"\n",
            "[1] \"DS Type: Larger, Lengthscale: 3, Iter: 02\"\n",
            "[1] \"DS Type: Larger, Lengthscale: 3, Iter: 03\"\n",
            "[1] \"DS Type: Larger, Lengthscale: 3, Iter: 04\"\n",
            "[1] \"DS Type: Larger, Lengthscale: 3, Iter: 05\"\n",
            "[1] \"DS Type: Larger, Lengthscale: 3, Iter: 06\"\n",
            "[1] \"DS Type: Larger, Lengthscale: 3, Iter: 07\"\n",
            "[1] \"DS Type: Larger, Lengthscale: 3, Iter: 08\"\n",
            "[1] \"DS Type: Larger, Lengthscale: 3, Iter: 09\"\n",
            "[1] \"DS Type: Larger, Lengthscale: 3, Iter: 10\"\n",
            "[1] \"DS Type: Larger, Lengthscale: 6, Iter: 01\"\n",
            "[1] \"DS Type: Larger, Lengthscale: 6, Iter: 02\"\n",
            "[1] \"DS Type: Larger, Lengthscale: 6, Iter: 03\"\n",
            "[1] \"DS Type: Larger, Lengthscale: 6, Iter: 04\"\n",
            "[1] \"DS Type: Larger, Lengthscale: 6, Iter: 05\"\n",
            "[1] \"DS Type: Larger, Lengthscale: 6, Iter: 06\"\n",
            "[1] \"DS Type: Larger, Lengthscale: 6, Iter: 07\"\n",
            "[1] \"DS Type: Larger, Lengthscale: 6, Iter: 08\"\n",
            "[1] \"DS Type: Larger, Lengthscale: 6, Iter: 09\"\n",
            "[1] \"DS Type: Larger, Lengthscale: 6, Iter: 10\"\n"
          ]
        }
      ]
    },
    {
      "cell_type": "code",
      "source": [
        "# Show raw data frame\n",
        "print(df)"
      ],
      "metadata": {
        "colab": {
          "base_uri": "https://localhost:8080/"
        },
        "id": "LvA0VXkoxopQ",
        "outputId": "c2134271-5d70-4884-8f9c-b31b512841f3"
      },
      "execution_count": 30,
      "outputs": [
        {
          "output_type": "stream",
          "name": "stdout",
          "text": [
            "    Dataset_Type Lengthscale   Iter  B_MAE B_RMSE  Y_MAE  Y_RMSE    Time\n",
            "          <char>      <char> <char> <char> <char> <char>  <char>  <char>\n",
            " 1:      Smaller           3   0001 0.6558 0.8393 1.1326  1.4576 127.420\n",
            " 2:      Smaller           3   0002 0.9822 1.3164 2.3322  3.0759 132.336\n",
            " 3:      Smaller           3   0003 1.1527 1.5496 2.1480  3.0118 135.496\n",
            " 4:      Smaller           3   0004 1.2915 1.6556 2.0453  2.7797 139.795\n",
            " 5:      Smaller           3   0005 0.7351 1.1669 2.7534  4.8024 143.883\n",
            " 6:      Smaller           3   0006 0.9118 1.3825 1.7165  2.1899 128.481\n",
            " 7:      Smaller           3   0007 0.6255 0.8287 1.1592  1.4429 126.513\n",
            " 8:      Smaller           3   0008 0.6209 0.9058 1.3572  1.9350 133.246\n",
            " 9:      Smaller           3   0009 0.5565 0.7159 1.2996  1.6955 132.776\n",
            "10:      Smaller           3   0010 1.0308 1.6259 1.6270  2.1134 133.928\n",
            "11:      Smaller           6   0001 0.4101 0.5640 1.0424  1.2888 127.134\n",
            "12:      Smaller           6   0002 0.8078 1.3730 2.6128  4.3829 128.718\n",
            "13:      Smaller           6   0003 0.4295 0.5611 1.0279  1.3027 119.281\n",
            "14:      Smaller           6   0004 0.5376 0.6852 1.0603  1.3341 127.768\n",
            "15:      Smaller           6   0005 0.4169 0.5404 1.3007  1.7506 112.094\n",
            "16:      Smaller           6   0006 0.4734 0.6611 0.9881  1.2593 118.973\n",
            "17:      Smaller           6   0007 0.7340 0.9981 1.0409  1.3507 125.716\n",
            "18:      Smaller           6   0008 0.4983 0.7394 0.9640  1.2365 125.145\n",
            "19:      Smaller           6   0009 0.5521 0.7722 1.1014  1.4166 125.797\n",
            "20:      Smaller           6   0010 0.4481 0.6336 1.1708  1.5076 127.762\n",
            "21:       Larger           3   0001 0.7263 1.0358 1.1901  1.5527 217.770\n",
            "22:       Larger           3   0002 0.7931 1.2400 2.9825  5.4437 214.109\n",
            "23:       Larger           3   0003 0.8128 1.2204 1.8678  2.6335 214.912\n",
            "24:       Larger           3   0004 0.9361 1.3559 2.2578  3.3616 221.811\n",
            "25:       Larger           3   0005 1.1157 1.8186 1.5018  2.1287 209.000\n",
            "26:       Larger           3   0006 2.9321 6.4431 6.6918 12.6516 211.059\n",
            "27:       Larger           3   0007 1.6012 2.6910 1.8454  2.4745 214.630\n",
            "28:       Larger           3   0008 0.8679 1.3528 1.9611  3.3850 205.830\n",
            "29:       Larger           3   0009 0.6851 1.0259 1.5979  2.1876 216.870\n",
            "30:       Larger           3   0010 0.9483 1.5354 2.4970  4.1309 211.673\n",
            "31:       Larger           6   0001 0.2334 0.3566 0.8472  1.0667 188.605\n",
            "32:       Larger           6   0002 0.1756 0.2694 0.8764  1.1188 191.268\n",
            "33:       Larger           6   0003 0.2229 0.3486 0.9649  1.2116 186.699\n",
            "34:       Larger           6   0004 0.2157 0.4033 0.8493  1.0544 189.186\n",
            "35:       Larger           6   0005 0.1598 0.2134 0.9277  1.1690 192.322\n",
            "36:       Larger           6   0006 0.2164 0.3363 0.8110  1.0226 198.951\n",
            "37:       Larger           6   0007 0.3052 0.4365 1.0350  1.3263 188.680\n",
            "38:       Larger           6   0008 0.2098 0.3236 0.9316  1.1822 198.608\n",
            "39:       Larger           6   0009 0.2536 0.4162 1.0279  1.2919 205.340\n",
            "40:       Larger           6   0010 0.2951 0.4780 0.9771  1.2349 196.545\n",
            "    Dataset_Type Lengthscale   Iter  B_MAE B_RMSE  Y_MAE  Y_RMSE    Time\n"
          ]
        }
      ]
    },
    {
      "cell_type": "code",
      "source": [
        "\n",
        "# Aggregate results (Table 6)\n",
        "mean_fmt <- function(x) sprintf('%.4f', mean(x))\n",
        "sd_fmt <- function(x) sprintf('%.4f', sd(x))\n",
        "df <- df[, lapply(.SD, as.numeric), by=list(Dataset_Type, Lengthscale)]\n",
        "df <- df[, .(\n",
        "  B_MAE_avg = mean_fmt(B_MAE),\n",
        "  B_MAE_sd = sd_fmt(B_MAE),\n",
        "  B_RMSE_avg = mean_fmt(B_RMSE),\n",
        "  B_RMSE_sd = sd_fmt(B_RMSE),\n",
        "  Y_MAE_avg = mean_fmt(Y_MAE),\n",
        "  Y_MAE_sd = sd_fmt(Y_MAE),\n",
        "  Y_RMSE_avg = mean_fmt(Y_RMSE),\n",
        "  Y_RMSE_sd = sd_fmt(Y_RMSE),\n",
        "  Time_avg = mean_fmt(Time),\n",
        "  Time_sd = sd_fmt(Time)\n",
        "), by=list(Dataset_Type, Lengthscale)]\n",
        "setkey(df, Dataset_Type, Lengthscale)\n",
        "print(df)\n"
      ],
      "metadata": {
        "colab": {
          "base_uri": "https://localhost:8080/"
        },
        "id": "8EQe0rJ_wpVD",
        "outputId": "2772cfb0-2843-4760-fbcc-0119a70f502b"
      },
      "execution_count": 31,
      "outputs": [
        {
          "output_type": "stream",
          "name": "stdout",
          "text": [
            "Key: <Dataset_Type, Lengthscale>\n",
            "   Dataset_Type Lengthscale B_MAE_avg B_MAE_sd B_RMSE_avg B_RMSE_sd Y_MAE_avg\n",
            "         <char>      <char>    <char>   <char>     <char>    <char>    <char>\n",
            "1:       Larger           3    1.1419   0.6817     1.9719    1.6451    2.4393\n",
            "2:       Larger           6    0.2288   0.0462     0.3582    0.0792    0.9248\n",
            "3:      Smaller           3    0.8563   0.2539     1.1987    0.3571    1.7571\n",
            "4:      Smaller           6    0.5308   0.1364     0.7528    0.2561    1.2309\n",
            "   Y_MAE_sd Y_RMSE_avg Y_RMSE_sd Time_avg Time_sd\n",
            "     <char>     <char>    <char>   <char>  <char>\n",
            "1:   1.5801     3.9950    3.2439 213.7664  4.5943\n",
            "2:   0.0776     1.1678    0.1020 193.6204  5.9958\n",
            "3:   0.5472     2.4504    1.0200 133.3874  5.4201\n",
            "4:   0.4952     1.6830    0.9607 123.8388  5.3432\n"
          ]
        }
      ]
    },
    {
      "cell_type": "code",
      "source": [
        "# Use 2 decimal places for the results\n",
        "fmt_2dec <- function(x) {\n",
        "  sprintf('%.2f', as.numeric(x))\n",
        "}\n",
        "res_df <- df[, lapply(.SD, fmt_2dec), by = list(Dataset_Type, Lengthscale)]\n",
        "res_df$DSType_ID <- ifelse(res_df$Dataset_Type=='Smaller', 1, 2)\n",
        "\n",
        "# Format in B_mae(avg±sd)/B_rmse(avg±sd) Y_mae(avg±sd)/Y_rmse(avg±sd)\n",
        "res_df <- res_df[, .(\n",
        "  B_res = paste(B_MAE_avg, '±', B_MAE_sd, '/', B_RMSE_avg, '±', B_RMSE_sd),\n",
        "  Y_res = paste(Y_MAE_avg, '±', Y_MAE_sd, '/', Y_RMSE_avg, '±', Y_RMSE_sd),\n",
        "  Time_res = paste(Time_avg, '±', Time_sd)\n",
        "), by = list(DSType_ID, Dataset_Type, Lengthscale)]\n",
        "setkey(res_df, DSType_ID, Lengthscale)\n",
        "res_df"
      ],
      "metadata": {
        "colab": {
          "base_uri": "https://localhost:8080/",
          "height": 224
        },
        "id": "aVyS1BbHxPzg",
        "outputId": "3d19f754-f796-43a2-dca0-b29c8aa5fa9a"
      },
      "execution_count": 32,
      "outputs": [
        {
          "output_type": "display_data",
          "data": {
            "text/html": [
              "<table class=\"dataframe\">\n",
              "<caption>A data.table: 4 × 6</caption>\n",
              "<thead>\n",
              "\t<tr><th scope=col>DSType_ID</th><th scope=col>Dataset_Type</th><th scope=col>Lengthscale</th><th scope=col>B_res</th><th scope=col>Y_res</th><th scope=col>Time_res</th></tr>\n",
              "\t<tr><th scope=col>&lt;dbl&gt;</th><th scope=col>&lt;chr&gt;</th><th scope=col>&lt;chr&gt;</th><th scope=col>&lt;chr&gt;</th><th scope=col>&lt;chr&gt;</th><th scope=col>&lt;chr&gt;</th></tr>\n",
              "</thead>\n",
              "<tbody>\n",
              "\t<tr><td>1</td><td>Smaller</td><td>3</td><td>0.86 ± 0.25 / 1.20 ± 0.36</td><td>1.76 ± 0.55 / 2.45 ± 1.02</td><td>133.39 ± 5.42</td></tr>\n",
              "\t<tr><td>1</td><td>Smaller</td><td>6</td><td>0.53 ± 0.14 / 0.75 ± 0.26</td><td>1.23 ± 0.50 / 1.68 ± 0.96</td><td>123.84 ± 5.34</td></tr>\n",
              "\t<tr><td>2</td><td>Larger </td><td>3</td><td>1.14 ± 0.68 / 1.97 ± 1.65</td><td>2.44 ± 1.58 / 4.00 ± 3.24</td><td>213.77 ± 4.59</td></tr>\n",
              "\t<tr><td>2</td><td>Larger </td><td>6</td><td>0.23 ± 0.05 / 0.36 ± 0.08</td><td>0.92 ± 0.08 / 1.17 ± 0.10</td><td>193.62 ± 6.00</td></tr>\n",
              "</tbody>\n",
              "</table>\n"
            ],
            "text/markdown": "\nA data.table: 4 × 6\n\n| DSType_ID &lt;dbl&gt; | Dataset_Type &lt;chr&gt; | Lengthscale &lt;chr&gt; | B_res &lt;chr&gt; | Y_res &lt;chr&gt; | Time_res &lt;chr&gt; |\n|---|---|---|---|---|---|\n| 1 | Smaller | 3 | 0.86 ± 0.25 / 1.20 ± 0.36 | 1.76 ± 0.55 / 2.45 ± 1.02 | 133.39 ± 5.42 |\n| 1 | Smaller | 6 | 0.53 ± 0.14 / 0.75 ± 0.26 | 1.23 ± 0.50 / 1.68 ± 0.96 | 123.84 ± 5.34 |\n| 2 | Larger  | 3 | 1.14 ± 0.68 / 1.97 ± 1.65 | 2.44 ± 1.58 / 4.00 ± 3.24 | 213.77 ± 4.59 |\n| 2 | Larger  | 6 | 0.23 ± 0.05 / 0.36 ± 0.08 | 0.92 ± 0.08 / 1.17 ± 0.10 | 193.62 ± 6.00 |\n\n",
            "text/latex": "A data.table: 4 × 6\n\\begin{tabular}{llllll}\n DSType\\_ID & Dataset\\_Type & Lengthscale & B\\_res & Y\\_res & Time\\_res\\\\\n <dbl> & <chr> & <chr> & <chr> & <chr> & <chr>\\\\\n\\hline\n\t 1 & Smaller & 3 & 0.86 ± 0.25 / 1.20 ± 0.36 & 1.76 ± 0.55 / 2.45 ± 1.02 & 133.39 ± 5.42\\\\\n\t 1 & Smaller & 6 & 0.53 ± 0.14 / 0.75 ± 0.26 & 1.23 ± 0.50 / 1.68 ± 0.96 & 123.84 ± 5.34\\\\\n\t 2 & Larger  & 3 & 1.14 ± 0.68 / 1.97 ± 1.65 & 2.44 ± 1.58 / 4.00 ± 3.24 & 213.77 ± 4.59\\\\\n\t 2 & Larger  & 6 & 0.23 ± 0.05 / 0.36 ± 0.08 & 0.92 ± 0.08 / 1.17 ± 0.10 & 193.62 ± 6.00\\\\\n\\end{tabular}\n",
            "text/plain": [
              "  DSType_ID Dataset_Type Lengthscale B_res                    \n",
              "1 1         Smaller      3           0.86 ± 0.25 / 1.20 ± 0.36\n",
              "2 1         Smaller      6           0.53 ± 0.14 / 0.75 ± 0.26\n",
              "3 2         Larger       3           1.14 ± 0.68 / 1.97 ± 1.65\n",
              "4 2         Larger       6           0.23 ± 0.05 / 0.36 ± 0.08\n",
              "  Y_res                     Time_res     \n",
              "1 1.76 ± 0.55 / 2.45 ± 1.02 133.39 ± 5.42\n",
              "2 1.23 ± 0.50 / 1.68 ± 0.96 123.84 ± 5.34\n",
              "3 2.44 ± 1.58 / 4.00 ± 3.24 213.77 ± 4.59\n",
              "4 0.92 ± 0.08 / 1.17 ± 0.10 193.62 ± 6.00"
            ]
          },
          "metadata": {}
        }
      ]
    },
    {
      "cell_type": "markdown",
      "source": [
        "## Results by interpolated segments"
      ],
      "metadata": {
        "id": "sDzYADL3wuse"
      }
    },
    {
      "cell_type": "code",
      "source": [
        "\n",
        "# Part for Table 7, Interpolation results by interpolated segments\n",
        "# Functions for formatting purposes\n",
        "get_df_errors <- function(\n",
        "  l_df, l_col, r_df, r_col, loc_subset, time_subset, use_and = TRUE\n",
        ") {\n",
        "  if (use_and) {\n",
        "    l_indx <- which(\n",
        "      l_df[, location] %in% loc_subset & l_df[, time] %in% time_subset)\n",
        "    r_indx <- which(\n",
        "      r_df[, location] %in% loc_subset & r_df[, time] %in% time_subset)\n",
        "  } else {\n",
        "    l_indx <- which(\n",
        "      l_df[, location] %in% loc_subset | l_df[, time] %in% time_subset)\n",
        "    r_indx <- which(\n",
        "      r_df[, location] %in% loc_subset | r_df[, time] %in% time_subset)\n",
        "  }\n",
        "  err <- unlist(l_df[l_indx, ..l_col] - r_df[r_indx, ..r_col])\n",
        "  return(c(mean(abs(err)), sqrt(mean(err ** 2))))\n",
        "}\n",
        "\n",
        "get_all_errors <- function(\n",
        "    segment_name,\n",
        "    i,\n",
        "    sim_data_df,\n",
        "    pred_y_df,\n",
        "    beta_data_df,\n",
        "    beta_pred_df,\n",
        "    loc_subset,\n",
        "    time_subset,\n",
        "    use_and = TRUE\n",
        ") {\n",
        "  y_err <- get_df_errors(sim_data_df, 'y', pred_y_df, 'y_est',\n",
        "                         loc_subset, time_subset, use_and = use_and)\n",
        "  beta_colnames <- setdiff(colnames(beta_pred_df), c('location', 'time'))\n",
        "  beta_err <- get_df_errors(beta_data_df, beta_colnames, beta_pred_df,\n",
        "      beta_colnames, loc_subset, time_subset, use_and=use_and)\n",
        "\n",
        "  return(c(\n",
        "    segment_name,\n",
        "    sprintf('%04d', i),\n",
        "    sprintf('%.4f', beta_err[1]),\n",
        "    sprintf('%.4f', beta_err[2]),\n",
        "    sprintf('%.4f', y_err[1]),\n",
        "    sprintf('%.4f', y_err[2])\n",
        "  ))\n",
        "}\n",
        "\n",
        "# Simulation Params\n",
        "nb_aside_locs <- 10\n",
        "nb_aside_times <- 20\n",
        "nb_locs <- 100\n",
        "nb_times <- 150\n",
        "len_scale <- 6\n",
        "spa_cov_means <- c(0, 2, 4)\n",
        "tem_cov_means <- c(1, 3)\n",
        "\n",
        "# Set seed and calculation params\n",
        "TSR$set_params(seed = 1, fp_type = 'float32', fp_device = 'cuda')\n",
        "res_colnames <- c(\n",
        "  'Interpol_Segment', 'Iter', 'B_MAE',\n",
        "  'B_RMSE', 'Y_MAE', 'Y_RMSE'\n",
        ")\n",
        "nb_res_cols <- length(res_colnames)\n",
        "res_vals <- c()\n",
        "\n",
        "# Run Large simulation for multiple iterations\n",
        "for (i in 1:10) {\n",
        "  print(sprintf('Simulation: %02d', i))\n",
        "  matern_lengthscale <- KernelParameter$new(value = len_scale)\n",
        "  se_lengthscale <- KernelParameter$new(value = len_scale)\n",
        "  spatial_kernel <- KernelMatern$new(lengthscale = matern_lengthscale)\n",
        "  temporal_kernel <- KernelSE$new(lengthscale = se_lengthscale)\n",
        "\n",
        "  simu_data <- simulate_spatiotemporal_data(\n",
        "    nb_locations = nb_locs,\n",
        "    nb_time_points = nb_times,\n",
        "    nb_spatial_dimensions = 2,\n",
        "    spatial_scale = 10,\n",
        "    time_scale = 10,\n",
        "    spatial_covariates_means = spa_cov_means,\n",
        "    temporal_covariates_means = tem_cov_means,\n",
        "    spatial_kernel = spatial_kernel,\n",
        "    temporal_kernel = temporal_kernel,\n",
        "    noise_variance_scale = 1\n",
        "  )\n",
        "\n",
        "  # Set some values aside for M_new locs and N_new times\n",
        "  obs_nb_locs <- nb_locs - nb_aside_locs\n",
        "  obs_nb_times <- nb_times - nb_aside_times\n",
        "\n",
        "  data_df <- simu_data$data_df\n",
        "  spatial_pos_df <- simu_data$spatial_positions_df\n",
        "  temporal_pos_df <- simu_data$temporal_positions_df\n",
        "\n",
        "  all_locs <- spatial_pos_df$location\n",
        "  all_times <- temporal_pos_df$time\n",
        "  obs_locs <- sample(all_locs, obs_nb_locs)\n",
        "  new_locs <- setdiff(all_locs, obs_locs)\n",
        "  obs_times <- sample(all_times, obs_nb_times)\n",
        "  new_times <- setdiff(all_times, obs_times)\n",
        "\n",
        "  obs_data_df <- data_df[\n",
        "    data_df[, .I[location %in% obs_locs & time %in% obs_times]], ]\n",
        "  obs_spatial_pos_df <- spatial_pos_df[\n",
        "    spatial_pos_df[, .I[location %in% obs_locs]], ]\n",
        "  obs_temporal_pos_df <- temporal_pos_df[\n",
        "    temporal_pos_df[, .I[time %in% obs_times]], ]\n",
        "\n",
        "  new_data_df <- data_df[\n",
        "    data_df[, .I[location %in% new_locs | time %in% new_times]], ]\n",
        "  new_spatial_positions_df <- spatial_pos_df[\n",
        "    spatial_pos_df[, .I[location %in% new_locs]], ]\n",
        "  new_temporal_positions_df <- temporal_pos_df[\n",
        "    temporal_pos_df[, .I[time %in% new_times]], ]\n",
        "\n",
        "  # Run mcmc sampling\n",
        "  bktr_regressor <- BKTRRegressor$new(\n",
        "    data_df = obs_data_df,\n",
        "    spatial_kernel = KernelMatern$new(),\n",
        "    spatial_positions_df = obs_spatial_pos_df,\n",
        "    temporal_kernel = KernelSE$new(),\n",
        "    temporal_positions_df = obs_temporal_pos_df,\n",
        "    burn_in_iter = 1000,\n",
        "    sampling_iter = 500,\n",
        "    has_geo_coords = FALSE\n",
        "  )\n",
        "  # Hide output of sampling because its volume creates notebook errors\n",
        "  .unused_out <- capture.output(bktr_regressor$mcmc_sampling())\n",
        "\n",
        "  # Run interpolation\n",
        "  preds <- bktr_regressor$predict(\n",
        "    new_data_df,\n",
        "    new_spatial_positions_df,\n",
        "    new_temporal_positions_df\n",
        "  )\n",
        "\n",
        "  # Align both datasets\n",
        "  sim_data_df <- simu_data$data_df\n",
        "  pred_y_df <- preds$new_y_df\n",
        "  beta_data_df <- simu_data$beta_df\n",
        "  beta_pred_df <- preds$new_beta_df\n",
        "  setkey(beta_pred_df, location, time)\n",
        "  sim_y_df <- sim_data_df[\n",
        "    sim_data_df[, .I[location %in% new_locs | time %in% new_times]],\n",
        "    c('location', 'time', 'y')\n",
        "  ]\n",
        "  setorderv(pred_y_df, c('location', 'time'))\n",
        "  setorderv(sim_y_df, c('location', 'time'))\n",
        "\n",
        "  # Formatting Values\n",
        "  res_vals <- c(\n",
        "    res_vals,\n",
        "    get_all_errors('1_new_spa',  i, sim_data_df, pred_y_df, beta_data_df,\n",
        "                   beta_pred_df, new_locs, obs_times),\n",
        "    get_all_errors('2_new_temp', i, sim_data_df, pred_y_df, beta_data_df,\n",
        "                   beta_pred_df, obs_locs, new_times),\n",
        "    get_all_errors('3_new_both', i, sim_data_df, pred_y_df, beta_data_df,\n",
        "                   beta_pred_df, new_locs, new_times),\n",
        "    get_all_errors('new_total', i, sim_data_df, pred_y_df, beta_data_df,\n",
        "                   beta_pred_df, new_locs, new_times, use_and = FALSE)\n",
        "  )\n",
        "}\n",
        "df <- as.data.table(matrix(res_vals, ncol = nb_res_cols, byrow = TRUE))\n",
        "colnames(df) <- res_colnames\n"
      ],
      "metadata": {
        "colab": {
          "base_uri": "https://localhost:8080/"
        },
        "id": "uLq7uRV5wtR5",
        "outputId": "0a278eba-131f-4516-8a9f-985db04b755e"
      },
      "execution_count": 35,
      "outputs": [
        {
          "output_type": "stream",
          "name": "stdout",
          "text": [
            "[1] \"Simulation: 01\"\n",
            "[1] \"Simulation: 02\"\n",
            "[1] \"Simulation: 03\"\n",
            "[1] \"Simulation: 04\"\n",
            "[1] \"Simulation: 05\"\n",
            "[1] \"Simulation: 06\"\n",
            "[1] \"Simulation: 07\"\n",
            "[1] \"Simulation: 08\"\n",
            "[1] \"Simulation: 09\"\n",
            "[1] \"Simulation: 10\"\n"
          ]
        }
      ]
    },
    {
      "cell_type": "code",
      "source": [
        "# Show raw data frame\n",
        "print(df)"
      ],
      "metadata": {
        "colab": {
          "base_uri": "https://localhost:8080/"
        },
        "id": "r7XncNqlyAz6",
        "outputId": "d7add44d-def0-4a0f-8886-088585517ffb"
      },
      "execution_count": 36,
      "outputs": [
        {
          "output_type": "stream",
          "name": "stdout",
          "text": [
            "    Interpol_Segment   Iter  B_MAE B_RMSE  Y_MAE Y_RMSE\n",
            "              <char> <char> <char> <char> <char> <char>\n",
            " 1:        1_new_spa   0001 0.2307 0.3761 0.8881 1.1049\n",
            " 2:       2_new_temp   0001 0.2397 0.4100 0.8009 1.0124\n",
            " 3:       3_new_both   0001 0.2304 0.3803 0.8707 1.1037\n",
            " 4:        new_total   0001 0.2356 0.3952 0.8395 1.0554\n",
            " 5:        1_new_spa   0002 0.1943 0.2778 0.8389 1.0530\n",
            " 6:       2_new_temp   0002 0.2009 0.2962 0.8278 1.0230\n",
            " 7:       3_new_both   0002 0.1998 0.2822 0.8293 1.0820\n",
            " 8:        new_total   0002 0.1982 0.2882 0.8323 1.0385\n",
            " 9:        1_new_spa   0003 0.1804 0.2740 0.8556 1.0710\n",
            "10:       2_new_temp   0003 0.1731 0.2828 0.8123 1.0235\n",
            "11:       3_new_both   0003 0.1697 0.2591 0.8770 1.0660\n",
            "12:        new_total   0003 0.1758 0.2780 0.8333 1.0450\n",
            "13:        1_new_spa   0004 0.2618 0.3727 1.0707 1.3258\n",
            "14:       2_new_temp   0004 0.2105 0.3277 0.8230 1.0323\n",
            "15:       3_new_both   0004 0.2569 0.3679 1.0375 1.2641\n",
            "16:        new_total   0004 0.2335 0.3486 0.9336 1.1707\n",
            "17:        1_new_spa   0005 0.2164 0.3783 0.8553 1.0629\n",
            "18:       2_new_temp   0005 0.2203 0.3966 0.8124 1.0260\n",
            "19:       3_new_both   0005 0.2258 0.4068 0.9375 1.1843\n",
            "20:        new_total   0005 0.2191 0.3901 0.8369 1.0508\n",
            "21:        1_new_spa   0006 0.2263 0.3572 1.2252 1.6348\n",
            "22:       2_new_temp   0006 0.2048 0.3276 0.8115 1.0131\n",
            "23:       3_new_both   0006 0.2294 0.3638 1.2127 1.6154\n",
            "24:        new_total   0006 0.2147 0.3418 0.9988 1.3308\n",
            "25:        1_new_spa   0007 0.1516 0.2256 0.9195 1.1379\n",
            "26:       2_new_temp   0007 0.1796 0.3068 0.7927 1.0076\n",
            "27:       3_new_both   0007 0.1474 0.2199 0.8061 1.0312\n",
            "28:        new_total   0007 0.1666 0.2726 0.8434 1.0622\n",
            "29:        1_new_spa   0008 0.3596 0.5408 1.8857 3.2103\n",
            "30:       2_new_temp   0008 0.2729 0.4122 0.8021 1.0116\n",
            "31:       3_new_both   0008 0.3490 0.5216 1.6621 2.6394\n",
            "32:        new_total   0008 0.3116 0.4737 1.2811 2.2451\n",
            "33:        1_new_spa   0009 0.2302 0.3338 1.1125 1.5241\n",
            "34:       2_new_temp   0009 0.1525 0.2352 0.8240 1.0351\n",
            "35:       3_new_both   0009 0.2330 0.3405 1.1486 1.5639\n",
            "36:        new_total   0009 0.1880 0.2848 0.9573 1.2836\n",
            "37:        1_new_spa   0010 0.2664 0.3972 1.4218 1.8521\n",
            "38:       2_new_temp   0010 0.2240 0.3991 0.8137 1.0208\n",
            "39:       3_new_both   0010 0.2610 0.3868 1.2992 1.6842\n",
            "40:        new_total   0010 0.2429 0.3976 1.0827 1.4462\n",
            "    Interpol_Segment   Iter  B_MAE B_RMSE  Y_MAE Y_RMSE\n"
          ]
        }
      ]
    },
    {
      "cell_type": "code",
      "source": [
        "# Aggregate results (Table 7)\n",
        "mean_fmt <- function(x) sprintf('%.4f', mean(x))\n",
        "sd_fmt <- function(x) sprintf('%.4f', sd(x))\n",
        "df <- df[, lapply(.SD, as.numeric), by=list(Interpol_Segment)]\n",
        "df <- df[, .(\n",
        "    B_MAE_avg = mean_fmt(B_MAE),\n",
        "    B_MAE_sd = sd_fmt(B_MAE),\n",
        "    B_RMSE_avg = mean_fmt(B_RMSE),\n",
        "    B_RMSE_sd = sd_fmt(B_RMSE),\n",
        "    Y_MAE_avg = mean_fmt(Y_MAE),\n",
        "    Y_MAE_sd = sd_fmt(Y_MAE),\n",
        "    Y_RMSE_avg = mean_fmt(Y_RMSE),\n",
        "    Y_RMSE_sd = sd_fmt(Y_RMSE)\n",
        "), by=list(Interpol_Segment)]\n",
        "setkey(df, Interpol_Segment)\n",
        "print(df)"
      ],
      "metadata": {
        "colab": {
          "base_uri": "https://localhost:8080/"
        },
        "id": "ukDK1oB4xyfR",
        "outputId": "010ab9d0-9f25-4cd7-f101-054bcd4a29f4"
      },
      "execution_count": 37,
      "outputs": [
        {
          "output_type": "stream",
          "name": "stdout",
          "text": [
            "Key: <Interpol_Segment>\n",
            "   Interpol_Segment B_MAE_avg B_MAE_sd B_RMSE_avg B_RMSE_sd Y_MAE_avg Y_MAE_sd\n",
            "             <char>    <char>   <char>     <char>    <char>    <char>   <char>\n",
            "1:        1_new_spa    0.2318   0.0569     0.3533    0.0865    1.1073   0.3337\n",
            "2:       2_new_temp    0.2078   0.0346     0.3394    0.0618    0.8120   0.0111\n",
            "3:       3_new_both    0.2302   0.0550     0.3529    0.0851    1.0681   0.2693\n",
            "4:        new_total    0.2186   0.0417     0.3471    0.0670    0.9439   0.1466\n",
            "   Y_RMSE_avg Y_RMSE_sd\n",
            "       <char>    <char>\n",
            "1:     1.4977    0.6633\n",
            "2:     1.0205    0.0092\n",
            "3:     1.4234    0.4929\n",
            "4:     1.2728    0.3707\n"
          ]
        }
      ]
    },
    {
      "cell_type": "code",
      "source": [
        "# Use 2 decimal places for the results\n",
        "res_df <- df[, lapply(.SD, fmt_2dec), by = list(Interpol_Segment)]\n",
        "\n",
        "# Format in B_mae(avg±sd)/B_rmse(avg±sd) Y_mae(avg±sd)/Y_rmse(avg±sd)\n",
        "res_df <- res_df[, .(\n",
        "  B_res = paste(B_MAE_avg, '±', B_MAE_sd, '/', B_RMSE_avg, '±', B_RMSE_sd),\n",
        "  Y_res = paste(Y_MAE_avg, '±', Y_MAE_sd, '/', Y_RMSE_avg, '±', Y_RMSE_sd)\n",
        "), by = list(Interpol_Segment)]\n",
        "res_df"
      ],
      "metadata": {
        "colab": {
          "base_uri": "https://localhost:8080/",
          "height": 224
        },
        "id": "oS4Af1cAyQgW",
        "outputId": "48b38664-2864-4437-e10c-09e37919329a"
      },
      "execution_count": 38,
      "outputs": [
        {
          "output_type": "display_data",
          "data": {
            "text/html": [
              "<table class=\"dataframe\">\n",
              "<caption>A data.table: 4 × 3</caption>\n",
              "<thead>\n",
              "\t<tr><th scope=col>Interpol_Segment</th><th scope=col>B_res</th><th scope=col>Y_res</th></tr>\n",
              "\t<tr><th scope=col>&lt;chr&gt;</th><th scope=col>&lt;chr&gt;</th><th scope=col>&lt;chr&gt;</th></tr>\n",
              "</thead>\n",
              "<tbody>\n",
              "\t<tr><td>1_new_spa </td><td>0.23 ± 0.06 / 0.35 ± 0.09</td><td>1.11 ± 0.33 / 1.50 ± 0.66</td></tr>\n",
              "\t<tr><td>2_new_temp</td><td>0.21 ± 0.03 / 0.34 ± 0.06</td><td>0.81 ± 0.01 / 1.02 ± 0.01</td></tr>\n",
              "\t<tr><td>3_new_both</td><td>0.23 ± 0.06 / 0.35 ± 0.09</td><td>1.07 ± 0.27 / 1.42 ± 0.49</td></tr>\n",
              "\t<tr><td>new_total </td><td>0.22 ± 0.04 / 0.35 ± 0.07</td><td>0.94 ± 0.15 / 1.27 ± 0.37</td></tr>\n",
              "</tbody>\n",
              "</table>\n"
            ],
            "text/markdown": "\nA data.table: 4 × 3\n\n| Interpol_Segment &lt;chr&gt; | B_res &lt;chr&gt; | Y_res &lt;chr&gt; |\n|---|---|---|\n| 1_new_spa  | 0.23 ± 0.06 / 0.35 ± 0.09 | 1.11 ± 0.33 / 1.50 ± 0.66 |\n| 2_new_temp | 0.21 ± 0.03 / 0.34 ± 0.06 | 0.81 ± 0.01 / 1.02 ± 0.01 |\n| 3_new_both | 0.23 ± 0.06 / 0.35 ± 0.09 | 1.07 ± 0.27 / 1.42 ± 0.49 |\n| new_total  | 0.22 ± 0.04 / 0.35 ± 0.07 | 0.94 ± 0.15 / 1.27 ± 0.37 |\n\n",
            "text/latex": "A data.table: 4 × 3\n\\begin{tabular}{lll}\n Interpol\\_Segment & B\\_res & Y\\_res\\\\\n <chr> & <chr> & <chr>\\\\\n\\hline\n\t 1\\_new\\_spa  & 0.23 ± 0.06 / 0.35 ± 0.09 & 1.11 ± 0.33 / 1.50 ± 0.66\\\\\n\t 2\\_new\\_temp & 0.21 ± 0.03 / 0.34 ± 0.06 & 0.81 ± 0.01 / 1.02 ± 0.01\\\\\n\t 3\\_new\\_both & 0.23 ± 0.06 / 0.35 ± 0.09 & 1.07 ± 0.27 / 1.42 ± 0.49\\\\\n\t new\\_total  & 0.22 ± 0.04 / 0.35 ± 0.07 & 0.94 ± 0.15 / 1.27 ± 0.37\\\\\n\\end{tabular}\n",
            "text/plain": [
              "  Interpol_Segment B_res                     Y_res                    \n",
              "1 1_new_spa        0.23 ± 0.06 / 0.35 ± 0.09 1.11 ± 0.33 / 1.50 ± 0.66\n",
              "2 2_new_temp       0.21 ± 0.03 / 0.34 ± 0.06 0.81 ± 0.01 / 1.02 ± 0.01\n",
              "3 3_new_both       0.23 ± 0.06 / 0.35 ± 0.09 1.07 ± 0.27 / 1.42 ± 0.49\n",
              "4 new_total        0.22 ± 0.04 / 0.35 ± 0.07 0.94 ± 0.15 / 1.27 ± 0.37"
            ]
          },
          "metadata": {}
        }
      ]
    }
  ]
}